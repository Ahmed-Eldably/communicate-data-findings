{
 "cells": [
  {
   "cell_type": "markdown",
   "metadata": {
    "slideshow": {
     "slide_type": "skip"
    }
   },
   "source": [
    "# Project 5: Communicate Data Findings\n",
    "\n",
    "\n",
    "# Table of Contents\n",
    "<ul>\n",
    "<li><a href=\"#Introduction\">Introduction</a></li>\n",
    "<li><a href=\"#gath\">Gathering Data</a></li>\n",
    "<li><a href=\"#assess\">Assessing Data</a></li>\n",
    "<li><a href=\"#clean\">Cleaning Data</a></li>\n",
    "<li><a href=\"#eda\">Data Analysis</a></li>\n",
    "</ul>"
   ]
  },
  {
   "cell_type": "markdown",
   "metadata": {
    "slideshow": {
     "slide_type": "slide"
    }
   },
   "source": [
    "## Bay Wheels Bike Sharing System Usage Pattern 2019"
   ]
  },
  {
   "cell_type": "markdown",
   "metadata": {
    "slideshow": {
     "slide_type": "slide"
    }
   },
   "source": [
    "### Investigation Overview\n",
    "In this investigation, I wanted to look at the data of Ford GoBike System that could be used to predict their users behaviour. The main focus was on the four time(hour/day/month) of starting time of the ride, user type and duration."
   ]
  },
  {
   "cell_type": "code",
   "execution_count": 488,
   "metadata": {
    "slideshow": {
     "slide_type": "skip"
    }
   },
   "outputs": [],
   "source": [
    "import datetime\n",
    "import calendar\n",
    "import glob\n",
    "import os\n",
    "import pandas as pd\n",
    "import numpy as np\n",
    "import matplotlib.pyplot as plt\n",
    "from matplotlib.pyplot import figure\n",
    "from pandas.api.types import CategoricalDtype\n",
    "\n",
    "\n",
    "%matplotlib inline\n",
    "import seaborn as sns\n"
   ]
  },
  {
   "cell_type": "markdown",
   "metadata": {
    "slideshow": {
     "slide_type": "skip"
    }
   },
   "source": [
    "<a name = 'gath'></a>\n",
    "# Gathering Data"
   ]
  },
  {
   "cell_type": "code",
   "execution_count": 489,
   "metadata": {
    "slideshow": {
     "slide_type": "skip"
    }
   },
   "outputs": [
    {
     "name": "stderr",
     "output_type": "stream",
     "text": [
      "/Users/ahmedeldably/opt/anaconda3/lib/python3.7/site-packages/ipykernel_launcher.py:5: DtypeWarning: Columns (13,14) have mixed types.Specify dtype option on import or set low_memory=False.\n",
      "  \"\"\"\n",
      "/Users/ahmedeldably/opt/anaconda3/lib/python3.7/site-packages/ipykernel_launcher.py:5: DtypeWarning: Columns (14) have mixed types.Specify dtype option on import or set low_memory=False.\n",
      "  \"\"\"\n",
      "/Users/ahmedeldably/opt/anaconda3/lib/python3.7/site-packages/ipykernel_launcher.py:5: DtypeWarning: Columns (13) have mixed types.Specify dtype option on import or set low_memory=False.\n",
      "  \"\"\"\n"
     ]
    }
   ],
   "source": [
    "path = r'/Users/ahmedeldably/Downloads/CODE University of Applied Sciences/Data Science/Udacity Data Analysis Nanodeegree/Project 5'\n",
    "\n",
    "files = glob.glob(os.path.join(path, \"*.csv\"))\n",
    "\n",
    "df = pd.concat((pd.read_csv(f) for f in files), ignore_index = True)\n",
    "\n",
    "df.to_csv('fordgo_bike_master.csv', index = False)"
   ]
  },
  {
   "cell_type": "markdown",
   "metadata": {
    "slideshow": {
     "slide_type": "skip"
    }
   },
   "source": [
    "<a name = 'assess'></a>\n",
    "# Assessing Data:"
   ]
  },
  {
   "cell_type": "code",
   "execution_count": 490,
   "metadata": {
    "slideshow": {
     "slide_type": "skip"
    }
   },
   "outputs": [
    {
     "name": "stderr",
     "output_type": "stream",
     "text": [
      "/Users/ahmedeldably/opt/anaconda3/lib/python3.7/site-packages/IPython/core/interactiveshell.py:3063: DtypeWarning: Columns (13,14) have mixed types.Specify dtype option on import or set low_memory=False.\n",
      "  interactivity=interactivity, compiler=compiler, result=result)\n"
     ]
    },
    {
     "data": {
      "text/html": [
       "<div>\n",
       "<style scoped>\n",
       "    .dataframe tbody tr th:only-of-type {\n",
       "        vertical-align: middle;\n",
       "    }\n",
       "\n",
       "    .dataframe tbody tr th {\n",
       "        vertical-align: top;\n",
       "    }\n",
       "\n",
       "    .dataframe thead th {\n",
       "        text-align: right;\n",
       "    }\n",
       "</style>\n",
       "<table border=\"1\" class=\"dataframe\">\n",
       "  <thead>\n",
       "    <tr style=\"text-align: right;\">\n",
       "      <th></th>\n",
       "      <th>duration_sec</th>\n",
       "      <th>start_time</th>\n",
       "      <th>end_time</th>\n",
       "      <th>start_station_id</th>\n",
       "      <th>start_station_name</th>\n",
       "      <th>start_station_latitude</th>\n",
       "      <th>start_station_longitude</th>\n",
       "      <th>end_station_id</th>\n",
       "      <th>end_station_name</th>\n",
       "      <th>end_station_latitude</th>\n",
       "      <th>end_station_longitude</th>\n",
       "      <th>bike_id</th>\n",
       "      <th>user_type</th>\n",
       "      <th>bike_share_for_all_trip</th>\n",
       "      <th>rental_access_method</th>\n",
       "    </tr>\n",
       "  </thead>\n",
       "  <tbody>\n",
       "    <tr>\n",
       "      <th>0</th>\n",
       "      <td>60863</td>\n",
       "      <td>2019-09-30 11:48:02.7100</td>\n",
       "      <td>2019-10-01 04:42:25.8640</td>\n",
       "      <td>465.0</td>\n",
       "      <td>San Francisco Caltrain Station (King St at 4th...</td>\n",
       "      <td>37.776329</td>\n",
       "      <td>-122.394438</td>\n",
       "      <td>465.0</td>\n",
       "      <td>San Francisco Caltrain Station (King St at 4th...</td>\n",
       "      <td>37.776329</td>\n",
       "      <td>-122.394438</td>\n",
       "      <td>12904</td>\n",
       "      <td>Customer</td>\n",
       "      <td>No</td>\n",
       "      <td>NaN</td>\n",
       "    </tr>\n",
       "    <tr>\n",
       "      <th>1</th>\n",
       "      <td>36019</td>\n",
       "      <td>2019-09-30 16:16:32.3530</td>\n",
       "      <td>2019-10-01 02:16:51.9820</td>\n",
       "      <td>294.0</td>\n",
       "      <td>Pierce Ave at Market St</td>\n",
       "      <td>37.327581</td>\n",
       "      <td>-121.884559</td>\n",
       "      <td>443.0</td>\n",
       "      <td>3rd St at Keyes St</td>\n",
       "      <td>37.320866</td>\n",
       "      <td>-121.876279</td>\n",
       "      <td>163</td>\n",
       "      <td>Customer</td>\n",
       "      <td>No</td>\n",
       "      <td>NaN</td>\n",
       "    </tr>\n",
       "    <tr>\n",
       "      <th>2</th>\n",
       "      <td>5615</td>\n",
       "      <td>2019-09-30 23:12:25.9980</td>\n",
       "      <td>2019-10-01 00:46:01.9590</td>\n",
       "      <td>370.0</td>\n",
       "      <td>Jones St at Post St</td>\n",
       "      <td>37.787327</td>\n",
       "      <td>-122.413278</td>\n",
       "      <td>4.0</td>\n",
       "      <td>Cyril Magnin St at Ellis St</td>\n",
       "      <td>37.785881</td>\n",
       "      <td>-122.408915</td>\n",
       "      <td>10737</td>\n",
       "      <td>Customer</td>\n",
       "      <td>No</td>\n",
       "      <td>NaN</td>\n",
       "    </tr>\n",
       "    <tr>\n",
       "      <th>3</th>\n",
       "      <td>1482</td>\n",
       "      <td>2019-09-30 23:57:34.6630</td>\n",
       "      <td>2019-10-01 00:22:16.8490</td>\n",
       "      <td>109.0</td>\n",
       "      <td>17th St at Valencia St</td>\n",
       "      <td>37.763316</td>\n",
       "      <td>-122.421904</td>\n",
       "      <td>460.0</td>\n",
       "      <td>Terry Francois Blvd at Warriors Way</td>\n",
       "      <td>37.769095</td>\n",
       "      <td>-122.386333</td>\n",
       "      <td>10346</td>\n",
       "      <td>Customer</td>\n",
       "      <td>No</td>\n",
       "      <td>NaN</td>\n",
       "    </tr>\n",
       "    <tr>\n",
       "      <th>4</th>\n",
       "      <td>1272</td>\n",
       "      <td>2019-09-30 23:53:28.6530</td>\n",
       "      <td>2019-10-01 00:14:41.0740</td>\n",
       "      <td>95.0</td>\n",
       "      <td>Sanchez St at 15th St</td>\n",
       "      <td>37.766219</td>\n",
       "      <td>-122.431060</td>\n",
       "      <td>127.0</td>\n",
       "      <td>Valencia St at 21st St</td>\n",
       "      <td>37.756708</td>\n",
       "      <td>-122.421025</td>\n",
       "      <td>1349</td>\n",
       "      <td>Subscriber</td>\n",
       "      <td>No</td>\n",
       "      <td>NaN</td>\n",
       "    </tr>\n",
       "    <tr>\n",
       "      <th>...</th>\n",
       "      <td>...</td>\n",
       "      <td>...</td>\n",
       "      <td>...</td>\n",
       "      <td>...</td>\n",
       "      <td>...</td>\n",
       "      <td>...</td>\n",
       "      <td>...</td>\n",
       "      <td>...</td>\n",
       "      <td>...</td>\n",
       "      <td>...</td>\n",
       "      <td>...</td>\n",
       "      <td>...</td>\n",
       "      <td>...</td>\n",
       "      <td>...</td>\n",
       "      <td>...</td>\n",
       "    </tr>\n",
       "    <tr>\n",
       "      <th>2506978</th>\n",
       "      <td>480</td>\n",
       "      <td>2019-02-01 00:04:49.7240</td>\n",
       "      <td>2019-02-01 00:12:50.0340</td>\n",
       "      <td>27.0</td>\n",
       "      <td>Beale St at Harrison St</td>\n",
       "      <td>37.788059</td>\n",
       "      <td>-122.391865</td>\n",
       "      <td>324.0</td>\n",
       "      <td>Union Square (Powell St at Post St)</td>\n",
       "      <td>37.788300</td>\n",
       "      <td>-122.408531</td>\n",
       "      <td>4832</td>\n",
       "      <td>Subscriber</td>\n",
       "      <td>No</td>\n",
       "      <td>NaN</td>\n",
       "    </tr>\n",
       "    <tr>\n",
       "      <th>2506979</th>\n",
       "      <td>313</td>\n",
       "      <td>2019-02-01 00:05:34.7440</td>\n",
       "      <td>2019-02-01 00:10:48.5020</td>\n",
       "      <td>21.0</td>\n",
       "      <td>Montgomery St BART Station (Market St at 2nd St)</td>\n",
       "      <td>37.789625</td>\n",
       "      <td>-122.400811</td>\n",
       "      <td>66.0</td>\n",
       "      <td>3rd St at Townsend St</td>\n",
       "      <td>37.778742</td>\n",
       "      <td>-122.392741</td>\n",
       "      <td>4960</td>\n",
       "      <td>Subscriber</td>\n",
       "      <td>No</td>\n",
       "      <td>NaN</td>\n",
       "    </tr>\n",
       "    <tr>\n",
       "      <th>2506980</th>\n",
       "      <td>141</td>\n",
       "      <td>2019-02-01 00:06:05.5490</td>\n",
       "      <td>2019-02-01 00:08:27.2200</td>\n",
       "      <td>278.0</td>\n",
       "      <td>The Alameda at Bush St</td>\n",
       "      <td>37.331932</td>\n",
       "      <td>-121.904888</td>\n",
       "      <td>277.0</td>\n",
       "      <td>Morrison Ave at Julian St</td>\n",
       "      <td>37.333658</td>\n",
       "      <td>-121.908586</td>\n",
       "      <td>3824</td>\n",
       "      <td>Subscriber</td>\n",
       "      <td>Yes</td>\n",
       "      <td>NaN</td>\n",
       "    </tr>\n",
       "    <tr>\n",
       "      <th>2506981</th>\n",
       "      <td>139</td>\n",
       "      <td>2019-02-01 00:05:34.3600</td>\n",
       "      <td>2019-02-01 00:07:54.2870</td>\n",
       "      <td>220.0</td>\n",
       "      <td>San Pablo Ave at MLK Jr Way</td>\n",
       "      <td>37.811351</td>\n",
       "      <td>-122.273422</td>\n",
       "      <td>216.0</td>\n",
       "      <td>San Pablo Ave at 27th St</td>\n",
       "      <td>37.817827</td>\n",
       "      <td>-122.275698</td>\n",
       "      <td>5095</td>\n",
       "      <td>Subscriber</td>\n",
       "      <td>No</td>\n",
       "      <td>NaN</td>\n",
       "    </tr>\n",
       "    <tr>\n",
       "      <th>2506982</th>\n",
       "      <td>271</td>\n",
       "      <td>2019-02-01 00:00:20.6360</td>\n",
       "      <td>2019-02-01 00:04:52.0580</td>\n",
       "      <td>24.0</td>\n",
       "      <td>Spear St at Folsom St</td>\n",
       "      <td>37.789677</td>\n",
       "      <td>-122.390428</td>\n",
       "      <td>37.0</td>\n",
       "      <td>2nd St at Folsom St</td>\n",
       "      <td>37.785000</td>\n",
       "      <td>-122.395936</td>\n",
       "      <td>1057</td>\n",
       "      <td>Subscriber</td>\n",
       "      <td>No</td>\n",
       "      <td>NaN</td>\n",
       "    </tr>\n",
       "  </tbody>\n",
       "</table>\n",
       "<p>2506983 rows × 15 columns</p>\n",
       "</div>"
      ],
      "text/plain": [
       "         duration_sec                start_time                  end_time  \\\n",
       "0               60863  2019-09-30 11:48:02.7100  2019-10-01 04:42:25.8640   \n",
       "1               36019  2019-09-30 16:16:32.3530  2019-10-01 02:16:51.9820   \n",
       "2                5615  2019-09-30 23:12:25.9980  2019-10-01 00:46:01.9590   \n",
       "3                1482  2019-09-30 23:57:34.6630  2019-10-01 00:22:16.8490   \n",
       "4                1272  2019-09-30 23:53:28.6530  2019-10-01 00:14:41.0740   \n",
       "...               ...                       ...                       ...   \n",
       "2506978           480  2019-02-01 00:04:49.7240  2019-02-01 00:12:50.0340   \n",
       "2506979           313  2019-02-01 00:05:34.7440  2019-02-01 00:10:48.5020   \n",
       "2506980           141  2019-02-01 00:06:05.5490  2019-02-01 00:08:27.2200   \n",
       "2506981           139  2019-02-01 00:05:34.3600  2019-02-01 00:07:54.2870   \n",
       "2506982           271  2019-02-01 00:00:20.6360  2019-02-01 00:04:52.0580   \n",
       "\n",
       "         start_station_id                                 start_station_name  \\\n",
       "0                   465.0  San Francisco Caltrain Station (King St at 4th...   \n",
       "1                   294.0                            Pierce Ave at Market St   \n",
       "2                   370.0                                Jones St at Post St   \n",
       "3                   109.0                             17th St at Valencia St   \n",
       "4                    95.0                              Sanchez St at 15th St   \n",
       "...                   ...                                                ...   \n",
       "2506978              27.0                            Beale St at Harrison St   \n",
       "2506979              21.0   Montgomery St BART Station (Market St at 2nd St)   \n",
       "2506980             278.0                             The Alameda at Bush St   \n",
       "2506981             220.0                        San Pablo Ave at MLK Jr Way   \n",
       "2506982              24.0                              Spear St at Folsom St   \n",
       "\n",
       "         start_station_latitude  start_station_longitude  end_station_id  \\\n",
       "0                     37.776329              -122.394438           465.0   \n",
       "1                     37.327581              -121.884559           443.0   \n",
       "2                     37.787327              -122.413278             4.0   \n",
       "3                     37.763316              -122.421904           460.0   \n",
       "4                     37.766219              -122.431060           127.0   \n",
       "...                         ...                      ...             ...   \n",
       "2506978               37.788059              -122.391865           324.0   \n",
       "2506979               37.789625              -122.400811            66.0   \n",
       "2506980               37.331932              -121.904888           277.0   \n",
       "2506981               37.811351              -122.273422           216.0   \n",
       "2506982               37.789677              -122.390428            37.0   \n",
       "\n",
       "                                          end_station_name  \\\n",
       "0        San Francisco Caltrain Station (King St at 4th...   \n",
       "1                                       3rd St at Keyes St   \n",
       "2                              Cyril Magnin St at Ellis St   \n",
       "3                      Terry Francois Blvd at Warriors Way   \n",
       "4                                   Valencia St at 21st St   \n",
       "...                                                    ...   \n",
       "2506978                Union Square (Powell St at Post St)   \n",
       "2506979                              3rd St at Townsend St   \n",
       "2506980                          Morrison Ave at Julian St   \n",
       "2506981                           San Pablo Ave at 27th St   \n",
       "2506982                                2nd St at Folsom St   \n",
       "\n",
       "         end_station_latitude  end_station_longitude  bike_id   user_type  \\\n",
       "0                   37.776329            -122.394438    12904    Customer   \n",
       "1                   37.320866            -121.876279      163    Customer   \n",
       "2                   37.785881            -122.408915    10737    Customer   \n",
       "3                   37.769095            -122.386333    10346    Customer   \n",
       "4                   37.756708            -122.421025     1349  Subscriber   \n",
       "...                       ...                    ...      ...         ...   \n",
       "2506978             37.788300            -122.408531     4832  Subscriber   \n",
       "2506979             37.778742            -122.392741     4960  Subscriber   \n",
       "2506980             37.333658            -121.908586     3824  Subscriber   \n",
       "2506981             37.817827            -122.275698     5095  Subscriber   \n",
       "2506982             37.785000            -122.395936     1057  Subscriber   \n",
       "\n",
       "        bike_share_for_all_trip rental_access_method  \n",
       "0                            No                  NaN  \n",
       "1                            No                  NaN  \n",
       "2                            No                  NaN  \n",
       "3                            No                  NaN  \n",
       "4                            No                  NaN  \n",
       "...                         ...                  ...  \n",
       "2506978                      No                  NaN  \n",
       "2506979                      No                  NaN  \n",
       "2506980                     Yes                  NaN  \n",
       "2506981                      No                  NaN  \n",
       "2506982                      No                  NaN  \n",
       "\n",
       "[2506983 rows x 15 columns]"
      ]
     },
     "execution_count": 490,
     "metadata": {},
     "output_type": "execute_result"
    }
   ],
   "source": [
    "df = pd.read_csv(\"fordgo_bike_master.csv\")\n",
    "df"
   ]
  },
  {
   "cell_type": "code",
   "execution_count": 491,
   "metadata": {
    "slideshow": {
     "slide_type": "skip"
    }
   },
   "outputs": [
    {
     "name": "stdout",
     "output_type": "stream",
     "text": [
      "<class 'pandas.core.frame.DataFrame'>\n",
      "RangeIndex: 2506983 entries, 0 to 2506982\n",
      "Data columns (total 15 columns):\n",
      " #   Column                   Non-Null Count    Dtype  \n",
      "---  ------                   --------------    -----  \n",
      " 0   duration_sec             2506983 non-null  int64  \n",
      " 1   start_time               2506983 non-null  object \n",
      " 2   end_time                 2506983 non-null  object \n",
      " 3   start_station_id         2426249 non-null  float64\n",
      " 4   start_station_name       2426850 non-null  object \n",
      " 5   start_station_latitude   2506983 non-null  float64\n",
      " 6   start_station_longitude  2506983 non-null  float64\n",
      " 7   end_station_id           2424081 non-null  float64\n",
      " 8   end_station_name         2424633 non-null  object \n",
      " 9   end_station_latitude     2506983 non-null  float64\n",
      " 10  end_station_longitude    2506983 non-null  float64\n",
      " 11  bike_id                  2506983 non-null  int64  \n",
      " 12  user_type                2506983 non-null  object \n",
      " 13  bike_share_for_all_trip  2263724 non-null  object \n",
      " 14  rental_access_method     120838 non-null   object \n",
      "dtypes: float64(6), int64(2), object(7)\n",
      "memory usage: 286.9+ MB\n"
     ]
    }
   ],
   "source": [
    "df.info(null_counts = True)"
   ]
  },
  {
   "cell_type": "code",
   "execution_count": 492,
   "metadata": {
    "slideshow": {
     "slide_type": "skip"
    }
   },
   "outputs": [
    {
     "data": {
      "text/plain": [
       "array(['Customer', 'Subscriber'], dtype=object)"
      ]
     },
     "execution_count": 492,
     "metadata": {},
     "output_type": "execute_result"
    }
   ],
   "source": [
    "df['user_type'].unique()"
   ]
  },
  {
   "cell_type": "code",
   "execution_count": 493,
   "metadata": {
    "slideshow": {
     "slide_type": "skip"
    }
   },
   "outputs": [
    {
     "data": {
      "text/plain": [
       "array(['No', 'Yes', nan], dtype=object)"
      ]
     },
     "execution_count": 493,
     "metadata": {},
     "output_type": "execute_result"
    }
   ],
   "source": [
    "df[\"bike_share_for_all_trip\"].unique()"
   ]
  },
  {
   "cell_type": "code",
   "execution_count": 494,
   "metadata": {
    "slideshow": {
     "slide_type": "skip"
    }
   },
   "outputs": [
    {
     "data": {
      "text/plain": [
       "(2506983, 15)"
      ]
     },
     "execution_count": 494,
     "metadata": {},
     "output_type": "execute_result"
    }
   ],
   "source": [
    "df.shape"
   ]
  },
  {
   "cell_type": "code",
   "execution_count": 495,
   "metadata": {
    "slideshow": {
     "slide_type": "skip"
    }
   },
   "outputs": [
    {
     "data": {
      "text/html": [
       "<div>\n",
       "<style scoped>\n",
       "    .dataframe tbody tr th:only-of-type {\n",
       "        vertical-align: middle;\n",
       "    }\n",
       "\n",
       "    .dataframe tbody tr th {\n",
       "        vertical-align: top;\n",
       "    }\n",
       "\n",
       "    .dataframe thead th {\n",
       "        text-align: right;\n",
       "    }\n",
       "</style>\n",
       "<table border=\"1\" class=\"dataframe\">\n",
       "  <thead>\n",
       "    <tr style=\"text-align: right;\">\n",
       "      <th></th>\n",
       "      <th>duration_sec</th>\n",
       "      <th>start_station_id</th>\n",
       "      <th>start_station_latitude</th>\n",
       "      <th>start_station_longitude</th>\n",
       "      <th>end_station_id</th>\n",
       "      <th>end_station_latitude</th>\n",
       "      <th>end_station_longitude</th>\n",
       "      <th>bike_id</th>\n",
       "    </tr>\n",
       "  </thead>\n",
       "  <tbody>\n",
       "    <tr>\n",
       "      <th>count</th>\n",
       "      <td>2.506983e+06</td>\n",
       "      <td>2.426249e+06</td>\n",
       "      <td>2.506983e+06</td>\n",
       "      <td>2.506983e+06</td>\n",
       "      <td>2.424081e+06</td>\n",
       "      <td>2.506983e+06</td>\n",
       "      <td>2.506983e+06</td>\n",
       "      <td>2.506983e+06</td>\n",
       "    </tr>\n",
       "    <tr>\n",
       "      <th>mean</th>\n",
       "      <td>8.076483e+02</td>\n",
       "      <td>1.465047e+02</td>\n",
       "      <td>3.776506e+01</td>\n",
       "      <td>-1.223499e+02</td>\n",
       "      <td>1.427044e+02</td>\n",
       "      <td>3.776422e+01</td>\n",
       "      <td>-1.223459e+02</td>\n",
       "      <td>2.789833e+04</td>\n",
       "    </tr>\n",
       "    <tr>\n",
       "      <th>std</th>\n",
       "      <td>1.974714e+03</td>\n",
       "      <td>1.223171e+02</td>\n",
       "      <td>1.363698e-01</td>\n",
       "      <td>3.089648e-01</td>\n",
       "      <td>1.214296e+02</td>\n",
       "      <td>2.392885e-01</td>\n",
       "      <td>7.080417e-01</td>\n",
       "      <td>1.146067e+05</td>\n",
       "    </tr>\n",
       "    <tr>\n",
       "      <th>min</th>\n",
       "      <td>6.000000e+01</td>\n",
       "      <td>3.000000e+00</td>\n",
       "      <td>0.000000e+00</td>\n",
       "      <td>-1.225143e+02</td>\n",
       "      <td>3.000000e+00</td>\n",
       "      <td>0.000000e+00</td>\n",
       "      <td>-1.225143e+02</td>\n",
       "      <td>4.000000e+00</td>\n",
       "    </tr>\n",
       "    <tr>\n",
       "      <th>25%</th>\n",
       "      <td>3.590000e+02</td>\n",
       "      <td>4.700000e+01</td>\n",
       "      <td>3.776931e+01</td>\n",
       "      <td>-1.224130e+02</td>\n",
       "      <td>4.300000e+01</td>\n",
       "      <td>3.777003e+01</td>\n",
       "      <td>-1.224117e+02</td>\n",
       "      <td>1.952000e+03</td>\n",
       "    </tr>\n",
       "    <tr>\n",
       "      <th>50%</th>\n",
       "      <td>5.710000e+02</td>\n",
       "      <td>1.050000e+02</td>\n",
       "      <td>3.778053e+01</td>\n",
       "      <td>-1.223983e+02</td>\n",
       "      <td>1.010000e+02</td>\n",
       "      <td>3.778076e+01</td>\n",
       "      <td>-1.223981e+02</td>\n",
       "      <td>4.420000e+03</td>\n",
       "    </tr>\n",
       "    <tr>\n",
       "      <th>75%</th>\n",
       "      <td>8.870000e+02</td>\n",
       "      <td>2.430000e+02</td>\n",
       "      <td>3.779539e+01</td>\n",
       "      <td>-1.222914e+02</td>\n",
       "      <td>2.390000e+02</td>\n",
       "      <td>3.779587e+01</td>\n",
       "      <td>-1.222934e+02</td>\n",
       "      <td>9.682000e+03</td>\n",
       "    </tr>\n",
       "    <tr>\n",
       "      <th>max</th>\n",
       "      <td>9.121100e+05</td>\n",
       "      <td>4.980000e+02</td>\n",
       "      <td>4.551000e+01</td>\n",
       "      <td>0.000000e+00</td>\n",
       "      <td>4.980000e+02</td>\n",
       "      <td>4.551000e+01</td>\n",
       "      <td>0.000000e+00</td>\n",
       "      <td>9.999410e+05</td>\n",
       "    </tr>\n",
       "  </tbody>\n",
       "</table>\n",
       "</div>"
      ],
      "text/plain": [
       "       duration_sec  start_station_id  start_station_latitude  \\\n",
       "count  2.506983e+06      2.426249e+06            2.506983e+06   \n",
       "mean   8.076483e+02      1.465047e+02            3.776506e+01   \n",
       "std    1.974714e+03      1.223171e+02            1.363698e-01   \n",
       "min    6.000000e+01      3.000000e+00            0.000000e+00   \n",
       "25%    3.590000e+02      4.700000e+01            3.776931e+01   \n",
       "50%    5.710000e+02      1.050000e+02            3.778053e+01   \n",
       "75%    8.870000e+02      2.430000e+02            3.779539e+01   \n",
       "max    9.121100e+05      4.980000e+02            4.551000e+01   \n",
       "\n",
       "       start_station_longitude  end_station_id  end_station_latitude  \\\n",
       "count             2.506983e+06    2.424081e+06          2.506983e+06   \n",
       "mean             -1.223499e+02    1.427044e+02          3.776422e+01   \n",
       "std               3.089648e-01    1.214296e+02          2.392885e-01   \n",
       "min              -1.225143e+02    3.000000e+00          0.000000e+00   \n",
       "25%              -1.224130e+02    4.300000e+01          3.777003e+01   \n",
       "50%              -1.223983e+02    1.010000e+02          3.778076e+01   \n",
       "75%              -1.222914e+02    2.390000e+02          3.779587e+01   \n",
       "max               0.000000e+00    4.980000e+02          4.551000e+01   \n",
       "\n",
       "       end_station_longitude       bike_id  \n",
       "count           2.506983e+06  2.506983e+06  \n",
       "mean           -1.223459e+02  2.789833e+04  \n",
       "std             7.080417e-01  1.146067e+05  \n",
       "min            -1.225143e+02  4.000000e+00  \n",
       "25%            -1.224117e+02  1.952000e+03  \n",
       "50%            -1.223981e+02  4.420000e+03  \n",
       "75%            -1.222934e+02  9.682000e+03  \n",
       "max             0.000000e+00  9.999410e+05  "
      ]
     },
     "execution_count": 495,
     "metadata": {},
     "output_type": "execute_result"
    }
   ],
   "source": [
    "df.describe()"
   ]
  },
  {
   "cell_type": "code",
   "execution_count": 496,
   "metadata": {
    "slideshow": {
     "slide_type": "skip"
    }
   },
   "outputs": [
    {
     "data": {
      "text/plain": [
       "0"
      ]
     },
     "execution_count": 496,
     "metadata": {},
     "output_type": "execute_result"
    }
   ],
   "source": [
    "# Checking for duplicates\n",
    "df.duplicated().sum()"
   ]
  },
  {
   "cell_type": "code",
   "execution_count": 497,
   "metadata": {
    "slideshow": {
     "slide_type": "skip"
    }
   },
   "outputs": [
    {
     "data": {
      "text/plain": [
       "duration_sec                     0\n",
       "start_time                       0\n",
       "end_time                         0\n",
       "start_station_id             80734\n",
       "start_station_name           80133\n",
       "start_station_latitude           0\n",
       "start_station_longitude          0\n",
       "end_station_id               82902\n",
       "end_station_name             82350\n",
       "end_station_latitude             0\n",
       "end_station_longitude            0\n",
       "bike_id                          0\n",
       "user_type                        0\n",
       "bike_share_for_all_trip     243259\n",
       "rental_access_method       2386145\n",
       "dtype: int64"
      ]
     },
     "execution_count": 497,
     "metadata": {},
     "output_type": "execute_result"
    }
   ],
   "source": [
    "# Checking for null values\n",
    "df.isna().sum()"
   ]
  },
  {
   "cell_type": "markdown",
   "metadata": {
    "slideshow": {
     "slide_type": "skip"
    }
   },
   "source": [
    "Some values of `start_station_id`, `start_station_name`, `end_station_id`, `end_station_name`,`bike_share_for_all_trip` and `rental_access_method` are null"
   ]
  },
  {
   "cell_type": "code",
   "execution_count": 498,
   "metadata": {
    "slideshow": {
     "slide_type": "skip"
    }
   },
   "outputs": [
    {
     "data": {
      "text/plain": [
       "array(['San Francisco Caltrain Station (King St at 4th St)',\n",
       "       'Pierce Ave at Market St', 'Jones St at Post St',\n",
       "       '17th St at Valencia St', 'Sanchez St at 15th St',\n",
       "       'Davis St at Jackson St',\n",
       "       'San Francisco Ferry Building (Harry Bridges Plaza)',\n",
       "       '5th St at Folsom', 'Steuart St at Market St',\n",
       "       'Gennessee St at Monterey Blvd', 'Fulton St at Ashby Ave',\n",
       "       'S Van Ness Ave at Market St', 'Fulton St at Bancroft Way',\n",
       "       'West St at 40th St', 'Market St at 45th St',\n",
       "       '19th Street BART Station', 'Haste St at Telegraph Ave',\n",
       "       'Howard St at 8th St', 'Commercial St at Montgomery St',\n",
       "       'Woolsey St at Sacramento St', 'Jackson Playground',\n",
       "       '16th St at Prosper St', '1st St at Folsom St',\n",
       "       'Townsend St at 7th St', 'China Basin St at 3rd St',\n",
       "       'Powell St BART Station (Market St at 4th St)',\n",
       "       'Market St at Franklin St', '55th St at Telegraph Ave',\n",
       "       'Rhode Island St at 17th St', 'Clay St at Battery St',\n",
       "       'Yerba Buena Center for the Arts (Howard St at 3rd St)',\n",
       "       'San Carlos St at Meridian Ave', '4th St at Harrison St',\n",
       "       'McCoppin St at Valencia St', '49th St at Telegraph Ave',\n",
       "       'Valencia St at 16th St', 'Ninth St at Heinz Ave',\n",
       "       'College Ave at Bryant Ave', 'Fountain Alley at S 2nd St',\n",
       "       '17th St at Dolores St',\n",
       "       'San Francisco Public Library (Grove St at Hyde St)',\n",
       "       'Berry St at King St', '2nd St at Townsend St',\n",
       "       'Valencia St at 24th St', '19th St at Florida St',\n",
       "       'Page St at Scott St', 'Lombard St at Columbus Ave',\n",
       "       'Mission Playground', 'Raymond Kimbell Playground',\n",
       "       'Broadway at Battery St',\n",
       "       'Powell St BART Station (Market St at 5th St)', 'Cahill Park',\n",
       "       'Brannan St at 4th St', 'Townsend St at 5th St',\n",
       "       'Potrero Ave and Mariposa St',\n",
       "       'San Francisco Caltrain (Townsend St at 4th St)',\n",
       "       'Market St at 10th St', 'Ashby BART Station',\n",
       "       'Downtown Berkeley BART',\n",
       "       'Embarcadero BART Station (Beale St at Market St)',\n",
       "       '9th St at San Fernando St', 'Howard St at Beale St',\n",
       "       '8th St at Brannan St', 'The Embarcadero at Steuart St',\n",
       "       'Mission Dolores Park',\n",
       "       'Civic Center/UN Plaza BART Station (Market St at McAllister St)',\n",
       "       'Bryant St at 2nd St', 'Haste St at College Ave',\n",
       "       'MLK Jr Way at University Ave', '8th St at Ringold St',\n",
       "       '7th St at Brannan St', 'Rockridge BART Station',\n",
       "       'Division St at Potrero Ave', 'MacArthur BART Station',\n",
       "       'Parker Ave at McAllister St', '3rd St at Townsend St',\n",
       "       '19th St at Mission St', '20th St at Bryant St',\n",
       "       '1st St at San Carlos St', 'Laguna St at Hayes St',\n",
       "       'Bay Pl at Vernon St', '5th St at Brannan St',\n",
       "       'Central Ave at Fell St', 'Vine St at Shattuck Ave',\n",
       "       'Jackson St at 5th St', 'Union Square (Powell St at Post St)',\n",
       "       'Indiana St at Cesar Chavez St', 'Telegraph Ave at 19th St',\n",
       "       'The Embarcadero at Sansome St', 'Beale St at Harrison St',\n",
       "       '4th St at San Carlos St', 'Broadway at Kearny',\n",
       "       'Telegraph Ave at Carleton St', '23rd St at Tennessee St',\n",
       "       'Grove St at Divisadero',\n",
       "       '17th & Folsom Street Park (17th St at Folsom St)',\n",
       "       'The Alameda at Bush St', 'Broadway at Coronado Ave',\n",
       "       'Washington St at 8th St', 'San Fernando St at 4th St',\n",
       "       'Valencia St at 21st St', 'Post St at Kearny St',\n",
       "       'Bryant St at 6th St', 'Harrison St at 20th St',\n",
       "       'Berkeley Civic Center', '5th St at Virginia St',\n",
       "       '4th St at Mission Bay Blvd S', 'Grove St at Masonic Ave',\n",
       "       'Shattuck Ave at Hearst Ave', '11th St at Bryant St',\n",
       "       'Valencia St at 22nd St', 'North Berkeley BART Station',\n",
       "       'Carl St at Cole St', 'Dolores St at 15th St',\n",
       "       'Howard St at 2nd St', 'Washington St at Kearny St',\n",
       "       'Bryant St at 15th St', '2nd Ave at E 18th St',\n",
       "       'San Fernando St at 7th St', 'Cyril Magnin St at Ellis St',\n",
       "       'The Embarcadero at Bryant St', '47th St at San Pablo Ave',\n",
       "       'Harrison St at 17th St',\n",
       "       'Montgomery St BART Station (Market St at 2nd St)',\n",
       "       'Octavia Blvd at Page St', 'The Embarcadero at Vallejo St',\n",
       "       'Russell St at College Ave', 'Mississippi St at 17th St',\n",
       "       'Franklin St at 9th St', 'Father Alfred E Boeddeker Park',\n",
       "       '11th St at Natoma St', 'Natoma St at New Montgomery St',\n",
       "       'Victoria Manalo Draves Park', 'Bancroft Way at Telegraph Ave',\n",
       "       'Howard St at Mary St', 'Williams Ave at 3rd St',\n",
       "       'MacArthur Blvd at Telegraph Ave', 'Esprit Park',\n",
       "       'Market St at Dolores St', '65th St at Hollis St',\n",
       "       '7th St at Empire St', 'Folsom St at 19th St',\n",
       "       'Fern St at Polk St', 'Jackson St at Polk St',\n",
       "       'Folsom St at 2nd St', 'Myrtle St at Polk St',\n",
       "       'Mechanics Monument Plaza (Market St at Bush St)',\n",
       "       'Valencia St at Clinton Park', 'Jersey St at Church St',\n",
       "       'Pierce St at Haight St', '22nd St Caltrain Station',\n",
       "       '24th St at Bartlett St', 'Berry St at 4th St',\n",
       "       'Bancroft Way at College Ave', 'College Ave at Harwood Ave',\n",
       "       'Grand Ave at Santa Clara Ave', 'Folsom St at 13th St',\n",
       "       'Lakeside Dr at 14th St', '16th St Mission BART Station 2',\n",
       "       '13th St at Franklin St', 'Grand Ave at Webster St',\n",
       "       'Eureka Valley Recreation Center', 'Sanchez St at 17th St',\n",
       "       'Miles Ave at Cavour St', 'Lake Merritt BART Station',\n",
       "       'Julian St at The Alameda', 'Church St at Duboce Ave',\n",
       "       'San Carlos St at Market St', 'Pier 1/2 at The Embarcadero',\n",
       "       'Folsom St at 3rd St', 'Terry Francois Blvd at Warriors Way',\n",
       "       'University Ave at Oxford St', 'Frank H Ogawa Plaza',\n",
       "       'Golden Gate Ave at Franklin St', '3rd St at Keyes St',\n",
       "       'Valencia St at Cesar Chavez St', 'Doyle St at 59th St',\n",
       "       'Harmon St at Adeline St', 'Telegraph Ave at Ashby Ave',\n",
       "       '37th St at West St', 'Franklin Square', 'Fifth St at Delaware St',\n",
       "       'San Pablo Ave at MLK Jr Way', 'Oregon St at Adeline St',\n",
       "       'Broderick St at Oak St', '5th St at San Salvador St',\n",
       "       '24th St at Chattanooga St', 'Hearst Ave at Euclid Ave',\n",
       "       'Garfield Square (25th St at Harrison St)',\n",
       "       'Chestnut St at Van Ness Ave', 'Emeryville Public Market',\n",
       "       'Cruise Terminal at Pier 27', 'Webster St at 2nd St',\n",
       "       \"Webster St at O'Farrell St\", 'Virginia St at Shattuck Ave',\n",
       "       'Mint St at Mission St', 'Parker St at Fulton St',\n",
       "       'Union St at 10th St', 'Broadway at 40th St',\n",
       "       'Market St at Park St', 'Hyde St at Post St',\n",
       "       'Telegraph Ave at 23rd St', '30th St at San Jose Ave',\n",
       "       'Fell St at Stanyan St', 'Channing Way at Shattuck Ave',\n",
       "       'Terry Francois Blvd at Mission Bay Blvd N',\n",
       "       '16th St Mission BART',\n",
       "       'Salesforce Transit Center (Natoma St at 2nd St)',\n",
       "       'Grand Ave at Perkins St',\n",
       "       'San Francisco City Hall (Polk St at Grove St)',\n",
       "       'Irwin St at 8th St', 'Utah St at 24th St',\n",
       "       'Madison St at 17th St', 'Spear St at Folsom St',\n",
       "       '15th St at Potrero Ave', 'The Embarcadero at Pier 38',\n",
       "       'Milvia St at Derby St', 'Illinois St at 20th St',\n",
       "       'McKinnon Ave at 3rd St', 'San Pedro Square',\n",
       "       'Channing Way at San Pablo Ave',\n",
       "       'Fruitvale Ave at International Blvd', 'Mission Bay Kids Park',\n",
       "       'Cesar Chavez St at Dolores St', 'Emory St at The Alameda',\n",
       "       'Carroll Ave at 3rd St', 'Derby St at College Ave',\n",
       "       'S Park St at 3rd St', 'Fruitvale BART Station',\n",
       "       'Broadway at 30th St', 'West Oakland BART Station',\n",
       "       'Turk St at Fillmore St', '18th St at Noe St',\n",
       "       'Horton St at 40th St', '14th St at Mandela Pkwy',\n",
       "       'Folsom St at 15th St', '4th St at 16th St',\n",
       "       'Lakeshore Ave at Trestle Glen Rd',\n",
       "       'McAllister St at Arguello Blvd', '2nd St at Julian St',\n",
       "       'Ninth St at Parker St', '10th St at University Ave',\n",
       "       'Webster St at 19th St', '29th St at Tiffany Ave',\n",
       "       'Autumn Parkway at Coleman Ave', 'Jack London Square',\n",
       "       'California St at University Ave', '14th St at Mission St',\n",
       "       'Leavenworth St at Broadway', 'Market St at 40th St',\n",
       "       'College Ave at Alcatraz Ave', 'Almaden Blvd at San Fernando St',\n",
       "       '10th Ave at E 15th St', 'El Embarcadero at Grand Ave',\n",
       "       'Market St at 8th St', 'McAllister St at Baker St',\n",
       "       'San Pedro St at Hedding St', 'Bushrod Park',\n",
       "       'Bay St at Fillmore St', 'Ryland Park', 'Mosswood Park',\n",
       "       'San Jose Diridon Station', 'Precita Park',\n",
       "       'MLK Jr Way at 14th St',\n",
       "       'Potrero del Sol Park (25th St at Utah St)',\n",
       "       '59th St at Horton St', '2100 Powell St', '22nd St at Dolores St',\n",
       "       'Buchanan St at North Point St', 'Isabella St at San Pablo Ave',\n",
       "       '7th Ave at Cabrillo St', 'Snow Park',\n",
       "       'Backesto Park (Jackson St at 13th St)',\n",
       "       'Santa Clara St at Almaden Blvd', 'Genoa St at 55th St',\n",
       "       'Alamo Square (Steiner St at Fulton St)', 'Mission St at 1st St',\n",
       "       'Webster St at Grove St', 'Judson Ave at Gennessee St',\n",
       "       'Stanford Ave at Hollis St', '45th St at Manila',\n",
       "       'Illinois St at Cesar Chavez St', 'Auzerais Ave at Lincoln Ave',\n",
       "       'Skyport Dr at Technology Dr', 'College Ave at Taft Ave',\n",
       "       'Golden Gate Ave at Hyde St', 'San Salvador St at 9th St',\n",
       "       'Koshland Park', 'Guerrero Park', 'Kerley Dr at Rosemary St',\n",
       "       'Addison St at Fourth St', 'San Carlos St at 11th St',\n",
       "       'Saint James Park', 'West St at University Ave',\n",
       "       'Sunol St at San Carlos St', 'W Julian St at N Morrison St',\n",
       "       'San Jose City Hall', 'Golden Gate Ave at Polk St',\n",
       "       'Dover St at 57th St', '32nd St at Adeline St',\n",
       "       'Empire St at 1st St', \"O'Farrell St at Divisadero St\",\n",
       "       'Sonora Ave at 1st St',\n",
       "       '6th Ave at E 12th St (Temporary Location)',\n",
       "       'Shattuck Ave at Telegraph Ave', 'Alcatraz Ave at Shattuck Ave',\n",
       "       'South San Jose State (7th St at Humboldt St)', 'Duboce Park',\n",
       "       'Masonic Ave at Turk St', 'Telegraph Ave at 27th St',\n",
       "       'Hubbell St at 16th St',\n",
       "       '4th Ave at E 12th St (Temporary Location)',\n",
       "       'Delmas Ave and San Fernando St', 'Shattuck Ave at 55th St',\n",
       "       '53rd St at Hollis St', 'San Pablo Park', 'William St at 10th St',\n",
       "       'Emeryville Town Hall', 'Shattuck Ave at 51st St',\n",
       "       'Mendell St at Fairfax Ave', '1st St at Younger Ave',\n",
       "       'DeFremery Park', 'San Antonio Park',\n",
       "       'Telegraph Ave at Alcatraz Ave', 'Market St at Brockhurst St',\n",
       "       '26th Ave at International Blvd', 'Taylor St at 9th St',\n",
       "       'Greenwich St at Webster St', '29th St at Church St',\n",
       "       'Ellsworth St at Russell St', '34th St at Telegraph Ave',\n",
       "       'Bestor Art Park', 'Jersey St at Castro St',\n",
       "       'Telegraph Ave at 58th St', '23rd Ave at Foothill Blvd',\n",
       "       '21st St at Santa Clara St', '45th St at MLK Jr Way',\n",
       "       'Foothill Blvd at Fruitvale Ave', '14th St at Filbert St',\n",
       "       'Arguello Blvd at Geary Blvd', 'Santa Clara St at 7th St',\n",
       "       'Glen Park BART Station', 'Newhall St at 3rd St',\n",
       "       'Marston Campbell Park', 'Julian St at 6th St',\n",
       "       'Raymond Bernal Jr Memorial Park (8th St at Hedding St)',\n",
       "       'Scott St at Golden Gate Ave', '24th St at Market St',\n",
       "       'Gish Rd at 1st St', 'Jackson St at N 1st St',\n",
       "       'Randall St at Chenery St', '20th St at Dolores St',\n",
       "       'Palm St at Willow St', '10th St at Mission St',\n",
       "       'Adeline St at 40th St', 'Oakdale Ave at Phelps St',\n",
       "       'Locust St at Grant St', 'Lane St at Revere Ave',\n",
       "       'Stockton Ave at Lenzen Ave', 'Foothill Blvd at 42nd Ave',\n",
       "       '27th St at MLK Jr Way', 'San Pablo Ave at 27th St',\n",
       "       'Delmas Ave at Virginia St', 'Parkmoor Ave at Race St',\n",
       "       'Auzerais Ave at Los Gatos Creek Trail', 'N 3rd St at E Taylor St',\n",
       "       'Paseo De San Antonio at 2nd St', 'Bird Ave at Willow St',\n",
       "       'Park Ave at Race St', '10th St at Fallon St',\n",
       "       '10th St at Empire St', 'Goettingen St at Bacon St', 'SAP Center',\n",
       "       'Williams Ave at Apollo St', 'Jackson St at 11th St',\n",
       "       'Willow St at Vine St', 'Almaden Blvd at Balbach St',\n",
       "       \"Heron's Head Park\", 'N 14th St at E Santa Clara St',\n",
       "       'Metro Dr at Technology Dr', 'Foothill Blvd at Harrington Ave',\n",
       "       'Jennings St at Revere Ave', 'Folsom St at 9th St',\n",
       "       '17th St at Santa Clara St', '21st Ave at International Blvd',\n",
       "       'Oak St at 1st St', 'Balboa Park BART Station',\n",
       "       '23rd St at Taylor St', 'Bird Ave at Coe Ave',\n",
       "       'San Francisco Caltrain Station 2  (Townsend St at 4th St)',\n",
       "       'Morrison Ave at Julian St', 'San Salvador St at 1st St',\n",
       "       '2nd St at Folsom St', '23rd St at San Bruno Ave',\n",
       "       '5th St at Taylor St', 'George St at 1st St',\n",
       "       'Empire St at 7th St', 'Farnam St at Fruitvale Ave', nan,\n",
       "       'Asbury St at The Alameda', 'SF Test Station',\n",
       "       '1st St at San Carlos Ave', 'Howard workshop - Station in a Box',\n",
       "       'Emeryville Depot', '16th St Depot', 'MTL-ECO5-01',\n",
       "       'San Jose Depot', 'Outside Lands (Temporary Station)',\n",
       "       'Woolsey St at Sacramento St1', 'Folsom St at 5th St',\n",
       "       'Brannan St at Colin P Kelly Jr St', '22nd St at William St',\n",
       "       'Grove St at Gough St', 'Newbury Park Dr at King Rd',\n",
       "       'Post St at Divisadero St', 'Brannan St at 7th St',\n",
       "       'Quesada Ave at 3rd St', '14th Ave at Geary Blvd',\n",
       "       '5th Ave at Anza St', 'Columbia Ave at Bird Ave',\n",
       "       'Ellis St at Pierce St', 'Evans Ave at Mendell St',\n",
       "       'Turk Blvd at Stanyan St', 'Willow St at Blewett Ave',\n",
       "       '19th St at William St', 'Prototype Lab',\n",
       "       \"O'Farrell St at Masonic Ave\", 'Egbert Ave at Jennings St',\n",
       "       'Arguello Blvd at Edward St', '17th Ave at Geary Blvd',\n",
       "       'Powell St at Columbus Ave', 'Frederick St at Arguello Blvd',\n",
       "       'Funston Ave at Fulton St', '9th Ave at Geary Blvd',\n",
       "       'Steiner St at California St', 'Folsom St at 7th St',\n",
       "       '7th St at King St', 'Greenwich St at Franklin St',\n",
       "       'St James St at 9th St', 'Frida Kahlo Way at Cloud Cir',\n",
       "       'Webster St at Clay St', 'Devine St at San Pedro St',\n",
       "       'Funston Ave at Clement St', 'Mercado Way at Sierra Rd',\n",
       "       'Park Ave at Laurel Grove Ln', 'Philly Demo',\n",
       "       '16th Depot Bike Fleet Station'], dtype=object)"
      ]
     },
     "execution_count": 498,
     "metadata": {},
     "output_type": "execute_result"
    }
   ],
   "source": [
    "df['start_station_name'].unique()"
   ]
  },
  {
   "cell_type": "code",
   "execution_count": 499,
   "metadata": {
    "slideshow": {
     "slide_type": "skip"
    }
   },
   "outputs": [
    {
     "data": {
      "text/plain": [
       "array([nan, 'app', 'clipper'], dtype=object)"
      ]
     },
     "execution_count": 499,
     "metadata": {},
     "output_type": "execute_result"
    }
   ],
   "source": [
    "df[\"rental_access_method\"].unique()"
   ]
  },
  {
   "cell_type": "markdown",
   "metadata": {
    "slideshow": {
     "slide_type": "skip"
    }
   },
   "source": [
    "<a name = 'cleaning'></a>\n",
    "# Cleaning Data:"
   ]
  },
  {
   "cell_type": "code",
   "execution_count": 500,
   "metadata": {
    "slideshow": {
     "slide_type": "skip"
    }
   },
   "outputs": [],
   "source": [
    "# Making a copy of the data before starting\n",
    "df_cleaned = df.copy()"
   ]
  },
  {
   "cell_type": "markdown",
   "metadata": {
    "slideshow": {
     "slide_type": "skip"
    }
   },
   "source": [
    "<b>Define:</b> \n",
    "Dropping null values from `bike_share_for_all_trip` column"
   ]
  },
  {
   "cell_type": "markdown",
   "metadata": {
    "slideshow": {
     "slide_type": "skip"
    }
   },
   "source": [
    "<b>Code:</b>"
   ]
  },
  {
   "cell_type": "code",
   "execution_count": 501,
   "metadata": {
    "slideshow": {
     "slide_type": "skip"
    }
   },
   "outputs": [],
   "source": [
    "df_cleaned = df_cleaned[df_cleaned['bike_share_for_all_trip'].notna()]\n"
   ]
  },
  {
   "cell_type": "markdown",
   "metadata": {
    "slideshow": {
     "slide_type": "skip"
    }
   },
   "source": [
    "<b>Test:</b>"
   ]
  },
  {
   "cell_type": "code",
   "execution_count": 502,
   "metadata": {
    "slideshow": {
     "slide_type": "skip"
    }
   },
   "outputs": [
    {
     "data": {
      "text/plain": [
       "array(['No', 'Yes'], dtype=object)"
      ]
     },
     "execution_count": 502,
     "metadata": {},
     "output_type": "execute_result"
    }
   ],
   "source": [
    "df_cleaned['bike_share_for_all_trip'].unique()"
   ]
  },
  {
   "cell_type": "code",
   "execution_count": 503,
   "metadata": {
    "slideshow": {
     "slide_type": "skip"
    }
   },
   "outputs": [
    {
     "name": "stdout",
     "output_type": "stream",
     "text": [
      "<class 'pandas.core.frame.DataFrame'>\n",
      "Int64Index: 2263724 entries, 0 to 2506982\n",
      "Data columns (total 15 columns):\n",
      " #   Column                   Non-Null Count    Dtype  \n",
      "---  ------                   --------------    -----  \n",
      " 0   duration_sec             2263724 non-null  int64  \n",
      " 1   start_time               2263724 non-null  object \n",
      " 2   end_time                 2263724 non-null  object \n",
      " 3   start_station_id         2262979 non-null  float64\n",
      " 4   start_station_name       2262979 non-null  object \n",
      " 5   start_station_latitude   2263724 non-null  float64\n",
      " 6   start_station_longitude  2263724 non-null  float64\n",
      " 7   end_station_id           2262979 non-null  float64\n",
      " 8   end_station_name         2262979 non-null  object \n",
      " 9   end_station_latitude     2263724 non-null  float64\n",
      " 10  end_station_longitude    2263724 non-null  float64\n",
      " 11  bike_id                  2263724 non-null  int64  \n",
      " 12  user_type                2263724 non-null  object \n",
      " 13  bike_share_for_all_trip  2263724 non-null  object \n",
      " 14  rental_access_method     0 non-null        object \n",
      "dtypes: float64(6), int64(2), object(7)\n",
      "memory usage: 276.3+ MB\n"
     ]
    }
   ],
   "source": [
    "df_cleaned.info(null_counts=True)"
   ]
  },
  {
   "cell_type": "markdown",
   "metadata": {
    "slideshow": {
     "slide_type": "skip"
    }
   },
   "source": [
    "<b>Define:</b>\n",
    "\n",
    "Dropping rows which has null values for the `start_station_id` column"
   ]
  },
  {
   "cell_type": "markdown",
   "metadata": {
    "slideshow": {
     "slide_type": "skip"
    }
   },
   "source": [
    "<b>Code:</b>"
   ]
  },
  {
   "cell_type": "code",
   "execution_count": 504,
   "metadata": {
    "slideshow": {
     "slide_type": "skip"
    }
   },
   "outputs": [],
   "source": [
    "df_cleaned = df_cleaned[df_cleaned['start_station_id'].notna()]"
   ]
  },
  {
   "cell_type": "markdown",
   "metadata": {
    "slideshow": {
     "slide_type": "skip"
    }
   },
   "source": [
    "<b>Test:</b>"
   ]
  },
  {
   "cell_type": "code",
   "execution_count": 505,
   "metadata": {
    "slideshow": {
     "slide_type": "skip"
    }
   },
   "outputs": [
    {
     "name": "stdout",
     "output_type": "stream",
     "text": [
      "<class 'pandas.core.frame.DataFrame'>\n",
      "Int64Index: 2262979 entries, 0 to 2506982\n",
      "Data columns (total 15 columns):\n",
      " #   Column                   Non-Null Count    Dtype  \n",
      "---  ------                   --------------    -----  \n",
      " 0   duration_sec             2262979 non-null  int64  \n",
      " 1   start_time               2262979 non-null  object \n",
      " 2   end_time                 2262979 non-null  object \n",
      " 3   start_station_id         2262979 non-null  float64\n",
      " 4   start_station_name       2262979 non-null  object \n",
      " 5   start_station_latitude   2262979 non-null  float64\n",
      " 6   start_station_longitude  2262979 non-null  float64\n",
      " 7   end_station_id           2262979 non-null  float64\n",
      " 8   end_station_name         2262979 non-null  object \n",
      " 9   end_station_latitude     2262979 non-null  float64\n",
      " 10  end_station_longitude    2262979 non-null  float64\n",
      " 11  bike_id                  2262979 non-null  int64  \n",
      " 12  user_type                2262979 non-null  object \n",
      " 13  bike_share_for_all_trip  2262979 non-null  object \n",
      " 14  rental_access_method     0 non-null        object \n",
      "dtypes: float64(6), int64(2), object(7)\n",
      "memory usage: 276.2+ MB\n"
     ]
    }
   ],
   "source": [
    "df_cleaned.info(null_counts = True)"
   ]
  },
  {
   "cell_type": "markdown",
   "metadata": {
    "slideshow": {
     "slide_type": "skip"
    }
   },
   "source": [
    "<b>Define:</b>\n",
    "\n",
    "Converting some columns to the appropriate data type:\n",
    "\n",
    "Starting and ending times' columns to timestamp.\n",
    "\n",
    "`user_type` and `bike_share_for_all_trip` to category.\n",
    "\n",
    "`bike_id`, `start_station_id`, and `end_station_id` to object."
   ]
  },
  {
   "cell_type": "markdown",
   "metadata": {
    "slideshow": {
     "slide_type": "skip"
    }
   },
   "source": [
    "<b>Code:</b>"
   ]
  },
  {
   "cell_type": "code",
   "execution_count": 506,
   "metadata": {
    "slideshow": {
     "slide_type": "skip"
    }
   },
   "outputs": [],
   "source": [
    "df_cleaned[\"start_time\"] = pd.to_datetime(df_cleaned['start_time'])\n",
    "df_cleaned[\"end_time\"] = pd.to_datetime(df_cleaned['end_time'])"
   ]
  },
  {
   "cell_type": "code",
   "execution_count": 507,
   "metadata": {
    "slideshow": {
     "slide_type": "skip"
    }
   },
   "outputs": [],
   "source": [
    "df_cleaned['user_type'] = df_cleaned['user_type'].astype('category')\n",
    "df_cleaned['bike_share_for_all_trip'] = df_cleaned['bike_share_for_all_trip'].astype('category')"
   ]
  },
  {
   "cell_type": "code",
   "execution_count": 508,
   "metadata": {
    "slideshow": {
     "slide_type": "skip"
    }
   },
   "outputs": [],
   "source": [
    "df_cleaned['bike_id'] = df_cleaned['bike_id'].astype('str')\n",
    "df_cleaned['start_station_id'] = df_cleaned['start_station_id'] .astype('str')\n",
    "df_cleaned['end_station_id'] = df_cleaned['end_station_id'] .astype('str')"
   ]
  },
  {
   "cell_type": "markdown",
   "metadata": {
    "slideshow": {
     "slide_type": "skip"
    }
   },
   "source": [
    "<b>Test:</b>"
   ]
  },
  {
   "cell_type": "code",
   "execution_count": 509,
   "metadata": {
    "scrolled": false,
    "slideshow": {
     "slide_type": "skip"
    }
   },
   "outputs": [
    {
     "name": "stdout",
     "output_type": "stream",
     "text": [
      "<class 'pandas.core.frame.DataFrame'>\n",
      "Int64Index: 2262979 entries, 0 to 2506982\n",
      "Data columns (total 15 columns):\n",
      " #   Column                   Non-Null Count    Dtype         \n",
      "---  ------                   --------------    -----         \n",
      " 0   duration_sec             2262979 non-null  int64         \n",
      " 1   start_time               2262979 non-null  datetime64[ns]\n",
      " 2   end_time                 2262979 non-null  datetime64[ns]\n",
      " 3   start_station_id         2262979 non-null  object        \n",
      " 4   start_station_name       2262979 non-null  object        \n",
      " 5   start_station_latitude   2262979 non-null  float64       \n",
      " 6   start_station_longitude  2262979 non-null  float64       \n",
      " 7   end_station_id           2262979 non-null  object        \n",
      " 8   end_station_name         2262979 non-null  object        \n",
      " 9   end_station_latitude     2262979 non-null  float64       \n",
      " 10  end_station_longitude    2262979 non-null  float64       \n",
      " 11  bike_id                  2262979 non-null  object        \n",
      " 12  user_type                2262979 non-null  category      \n",
      " 13  bike_share_for_all_trip  2262979 non-null  category      \n",
      " 14  rental_access_method     0 non-null        object        \n",
      "dtypes: category(2), datetime64[ns](2), float64(4), int64(1), object(6)\n",
      "memory usage: 246.0+ MB\n"
     ]
    }
   ],
   "source": [
    "df_cleaned.info(null_counts = True)"
   ]
  },
  {
   "cell_type": "code",
   "execution_count": 510,
   "metadata": {
    "slideshow": {
     "slide_type": "skip"
    }
   },
   "outputs": [
    {
     "data": {
      "text/plain": [
       "array([2019])"
      ]
     },
     "execution_count": 510,
     "metadata": {},
     "output_type": "execute_result"
    }
   ],
   "source": [
    "df_cleaned[\"start_time\"].dt.year.unique()"
   ]
  },
  {
   "cell_type": "code",
   "execution_count": 511,
   "metadata": {
    "slideshow": {
     "slide_type": "skip"
    }
   },
   "outputs": [
    {
     "data": {
      "text/plain": [
       "array([2019])"
      ]
     },
     "execution_count": 511,
     "metadata": {},
     "output_type": "execute_result"
    }
   ],
   "source": [
    "df_cleaned[\"end_time\"].dt.year.unique()"
   ]
  },
  {
   "cell_type": "code",
   "execution_count": 512,
   "metadata": {
    "slideshow": {
     "slide_type": "skip"
    }
   },
   "outputs": [
    {
     "data": {
      "text/html": [
       "<div>\n",
       "<style scoped>\n",
       "    .dataframe tbody tr th:only-of-type {\n",
       "        vertical-align: middle;\n",
       "    }\n",
       "\n",
       "    .dataframe tbody tr th {\n",
       "        vertical-align: top;\n",
       "    }\n",
       "\n",
       "    .dataframe thead th {\n",
       "        text-align: right;\n",
       "    }\n",
       "</style>\n",
       "<table border=\"1\" class=\"dataframe\">\n",
       "  <thead>\n",
       "    <tr style=\"text-align: right;\">\n",
       "      <th></th>\n",
       "      <th>duration_sec</th>\n",
       "      <th>start_station_latitude</th>\n",
       "      <th>start_station_longitude</th>\n",
       "      <th>end_station_latitude</th>\n",
       "      <th>end_station_longitude</th>\n",
       "    </tr>\n",
       "  </thead>\n",
       "  <tbody>\n",
       "    <tr>\n",
       "      <th>count</th>\n",
       "      <td>2.262979e+06</td>\n",
       "      <td>2.262979e+06</td>\n",
       "      <td>2.262979e+06</td>\n",
       "      <td>2.262979e+06</td>\n",
       "      <td>2.262979e+06</td>\n",
       "    </tr>\n",
       "    <tr>\n",
       "      <th>mean</th>\n",
       "      <td>8.069304e+02</td>\n",
       "      <td>3.776979e+01</td>\n",
       "      <td>-1.223549e+02</td>\n",
       "      <td>3.776918e+01</td>\n",
       "      <td>-1.223516e+02</td>\n",
       "    </tr>\n",
       "    <tr>\n",
       "      <th>std</th>\n",
       "      <td>1.922206e+03</td>\n",
       "      <td>1.030237e-01</td>\n",
       "      <td>1.626585e-01</td>\n",
       "      <td>2.005436e-01</td>\n",
       "      <td>5.807114e-01</td>\n",
       "    </tr>\n",
       "    <tr>\n",
       "      <th>min</th>\n",
       "      <td>6.100000e+01</td>\n",
       "      <td>0.000000e+00</td>\n",
       "      <td>-1.224952e+02</td>\n",
       "      <td>0.000000e+00</td>\n",
       "      <td>-1.224952e+02</td>\n",
       "    </tr>\n",
       "    <tr>\n",
       "      <th>25%</th>\n",
       "      <td>3.580000e+02</td>\n",
       "      <td>3.777008e+01</td>\n",
       "      <td>-1.224130e+02</td>\n",
       "      <td>3.777041e+01</td>\n",
       "      <td>-1.224117e+02</td>\n",
       "    </tr>\n",
       "    <tr>\n",
       "      <th>50%</th>\n",
       "      <td>5.690000e+02</td>\n",
       "      <td>3.778053e+01</td>\n",
       "      <td>-1.223984e+02</td>\n",
       "      <td>3.778079e+01</td>\n",
       "      <td>-1.223981e+02</td>\n",
       "    </tr>\n",
       "    <tr>\n",
       "      <th>75%</th>\n",
       "      <td>8.840000e+02</td>\n",
       "      <td>3.779539e+01</td>\n",
       "      <td>-1.222948e+02</td>\n",
       "      <td>3.779639e+01</td>\n",
       "      <td>-1.222948e+02</td>\n",
       "    </tr>\n",
       "    <tr>\n",
       "      <th>max</th>\n",
       "      <td>8.621700e+04</td>\n",
       "      <td>4.551000e+01</td>\n",
       "      <td>0.000000e+00</td>\n",
       "      <td>4.551000e+01</td>\n",
       "      <td>0.000000e+00</td>\n",
       "    </tr>\n",
       "  </tbody>\n",
       "</table>\n",
       "</div>"
      ],
      "text/plain": [
       "       duration_sec  start_station_latitude  start_station_longitude  \\\n",
       "count  2.262979e+06            2.262979e+06             2.262979e+06   \n",
       "mean   8.069304e+02            3.776979e+01            -1.223549e+02   \n",
       "std    1.922206e+03            1.030237e-01             1.626585e-01   \n",
       "min    6.100000e+01            0.000000e+00            -1.224952e+02   \n",
       "25%    3.580000e+02            3.777008e+01            -1.224130e+02   \n",
       "50%    5.690000e+02            3.778053e+01            -1.223984e+02   \n",
       "75%    8.840000e+02            3.779539e+01            -1.222948e+02   \n",
       "max    8.621700e+04            4.551000e+01             0.000000e+00   \n",
       "\n",
       "       end_station_latitude  end_station_longitude  \n",
       "count          2.262979e+06           2.262979e+06  \n",
       "mean           3.776918e+01          -1.223516e+02  \n",
       "std            2.005436e-01           5.807114e-01  \n",
       "min            0.000000e+00          -1.224952e+02  \n",
       "25%            3.777041e+01          -1.224117e+02  \n",
       "50%            3.778079e+01          -1.223981e+02  \n",
       "75%            3.779639e+01          -1.222948e+02  \n",
       "max            4.551000e+01           0.000000e+00  "
      ]
     },
     "execution_count": 512,
     "metadata": {},
     "output_type": "execute_result"
    }
   ],
   "source": [
    "df_cleaned.describe()"
   ]
  },
  {
   "cell_type": "code",
   "execution_count": 513,
   "metadata": {
    "slideshow": {
     "slide_type": "skip"
    }
   },
   "outputs": [
    {
     "data": {
      "text/html": [
       "<div>\n",
       "<style scoped>\n",
       "    .dataframe tbody tr th:only-of-type {\n",
       "        vertical-align: middle;\n",
       "    }\n",
       "\n",
       "    .dataframe tbody tr th {\n",
       "        vertical-align: top;\n",
       "    }\n",
       "\n",
       "    .dataframe thead th {\n",
       "        text-align: right;\n",
       "    }\n",
       "</style>\n",
       "<table border=\"1\" class=\"dataframe\">\n",
       "  <thead>\n",
       "    <tr style=\"text-align: right;\">\n",
       "      <th></th>\n",
       "      <th>duration_sec</th>\n",
       "      <th>start_time</th>\n",
       "      <th>end_time</th>\n",
       "      <th>start_station_id</th>\n",
       "      <th>start_station_name</th>\n",
       "      <th>start_station_latitude</th>\n",
       "      <th>start_station_longitude</th>\n",
       "      <th>end_station_id</th>\n",
       "      <th>end_station_name</th>\n",
       "      <th>end_station_latitude</th>\n",
       "      <th>end_station_longitude</th>\n",
       "      <th>bike_id</th>\n",
       "      <th>user_type</th>\n",
       "      <th>bike_share_for_all_trip</th>\n",
       "      <th>rental_access_method</th>\n",
       "    </tr>\n",
       "  </thead>\n",
       "  <tbody>\n",
       "    <tr>\n",
       "      <th>0</th>\n",
       "      <td>60863</td>\n",
       "      <td>2019-09-30 11:48:02.710</td>\n",
       "      <td>2019-10-01 04:42:25.864</td>\n",
       "      <td>465.0</td>\n",
       "      <td>San Francisco Caltrain Station (King St at 4th...</td>\n",
       "      <td>37.776329</td>\n",
       "      <td>-122.394438</td>\n",
       "      <td>465.0</td>\n",
       "      <td>San Francisco Caltrain Station (King St at 4th...</td>\n",
       "      <td>37.776329</td>\n",
       "      <td>-122.394438</td>\n",
       "      <td>12904</td>\n",
       "      <td>Customer</td>\n",
       "      <td>No</td>\n",
       "      <td>NaN</td>\n",
       "    </tr>\n",
       "    <tr>\n",
       "      <th>1</th>\n",
       "      <td>36019</td>\n",
       "      <td>2019-09-30 16:16:32.353</td>\n",
       "      <td>2019-10-01 02:16:51.982</td>\n",
       "      <td>294.0</td>\n",
       "      <td>Pierce Ave at Market St</td>\n",
       "      <td>37.327581</td>\n",
       "      <td>-121.884559</td>\n",
       "      <td>443.0</td>\n",
       "      <td>3rd St at Keyes St</td>\n",
       "      <td>37.320866</td>\n",
       "      <td>-121.876279</td>\n",
       "      <td>163</td>\n",
       "      <td>Customer</td>\n",
       "      <td>No</td>\n",
       "      <td>NaN</td>\n",
       "    </tr>\n",
       "    <tr>\n",
       "      <th>2</th>\n",
       "      <td>5615</td>\n",
       "      <td>2019-09-30 23:12:25.998</td>\n",
       "      <td>2019-10-01 00:46:01.959</td>\n",
       "      <td>370.0</td>\n",
       "      <td>Jones St at Post St</td>\n",
       "      <td>37.787327</td>\n",
       "      <td>-122.413278</td>\n",
       "      <td>4.0</td>\n",
       "      <td>Cyril Magnin St at Ellis St</td>\n",
       "      <td>37.785881</td>\n",
       "      <td>-122.408915</td>\n",
       "      <td>10737</td>\n",
       "      <td>Customer</td>\n",
       "      <td>No</td>\n",
       "      <td>NaN</td>\n",
       "    </tr>\n",
       "    <tr>\n",
       "      <th>3</th>\n",
       "      <td>1482</td>\n",
       "      <td>2019-09-30 23:57:34.663</td>\n",
       "      <td>2019-10-01 00:22:16.849</td>\n",
       "      <td>109.0</td>\n",
       "      <td>17th St at Valencia St</td>\n",
       "      <td>37.763316</td>\n",
       "      <td>-122.421904</td>\n",
       "      <td>460.0</td>\n",
       "      <td>Terry Francois Blvd at Warriors Way</td>\n",
       "      <td>37.769095</td>\n",
       "      <td>-122.386333</td>\n",
       "      <td>10346</td>\n",
       "      <td>Customer</td>\n",
       "      <td>No</td>\n",
       "      <td>NaN</td>\n",
       "    </tr>\n",
       "    <tr>\n",
       "      <th>4</th>\n",
       "      <td>1272</td>\n",
       "      <td>2019-09-30 23:53:28.653</td>\n",
       "      <td>2019-10-01 00:14:41.074</td>\n",
       "      <td>95.0</td>\n",
       "      <td>Sanchez St at 15th St</td>\n",
       "      <td>37.766219</td>\n",
       "      <td>-122.431060</td>\n",
       "      <td>127.0</td>\n",
       "      <td>Valencia St at 21st St</td>\n",
       "      <td>37.756708</td>\n",
       "      <td>-122.421025</td>\n",
       "      <td>1349</td>\n",
       "      <td>Subscriber</td>\n",
       "      <td>No</td>\n",
       "      <td>NaN</td>\n",
       "    </tr>\n",
       "  </tbody>\n",
       "</table>\n",
       "</div>"
      ],
      "text/plain": [
       "   duration_sec              start_time                end_time  \\\n",
       "0         60863 2019-09-30 11:48:02.710 2019-10-01 04:42:25.864   \n",
       "1         36019 2019-09-30 16:16:32.353 2019-10-01 02:16:51.982   \n",
       "2          5615 2019-09-30 23:12:25.998 2019-10-01 00:46:01.959   \n",
       "3          1482 2019-09-30 23:57:34.663 2019-10-01 00:22:16.849   \n",
       "4          1272 2019-09-30 23:53:28.653 2019-10-01 00:14:41.074   \n",
       "\n",
       "  start_station_id                                 start_station_name  \\\n",
       "0            465.0  San Francisco Caltrain Station (King St at 4th...   \n",
       "1            294.0                            Pierce Ave at Market St   \n",
       "2            370.0                                Jones St at Post St   \n",
       "3            109.0                             17th St at Valencia St   \n",
       "4             95.0                              Sanchez St at 15th St   \n",
       "\n",
       "   start_station_latitude  start_station_longitude end_station_id  \\\n",
       "0               37.776329              -122.394438          465.0   \n",
       "1               37.327581              -121.884559          443.0   \n",
       "2               37.787327              -122.413278            4.0   \n",
       "3               37.763316              -122.421904          460.0   \n",
       "4               37.766219              -122.431060          127.0   \n",
       "\n",
       "                                    end_station_name  end_station_latitude  \\\n",
       "0  San Francisco Caltrain Station (King St at 4th...             37.776329   \n",
       "1                                 3rd St at Keyes St             37.320866   \n",
       "2                        Cyril Magnin St at Ellis St             37.785881   \n",
       "3                Terry Francois Blvd at Warriors Way             37.769095   \n",
       "4                             Valencia St at 21st St             37.756708   \n",
       "\n",
       "   end_station_longitude bike_id   user_type bike_share_for_all_trip  \\\n",
       "0            -122.394438   12904    Customer                      No   \n",
       "1            -121.876279     163    Customer                      No   \n",
       "2            -122.408915   10737    Customer                      No   \n",
       "3            -122.386333   10346    Customer                      No   \n",
       "4            -122.421025    1349  Subscriber                      No   \n",
       "\n",
       "  rental_access_method  \n",
       "0                  NaN  \n",
       "1                  NaN  \n",
       "2                  NaN  \n",
       "3                  NaN  \n",
       "4                  NaN  "
      ]
     },
     "execution_count": 513,
     "metadata": {},
     "output_type": "execute_result"
    }
   ],
   "source": [
    "df_cleaned.head()"
   ]
  },
  {
   "cell_type": "markdown",
   "metadata": {
    "slideshow": {
     "slide_type": "skip"
    }
   },
   "source": [
    "<b>Define:</b>\n",
    "Convert duration in seconds to minutes"
   ]
  },
  {
   "cell_type": "markdown",
   "metadata": {
    "slideshow": {
     "slide_type": "skip"
    }
   },
   "source": [
    "<b>Code:</b>"
   ]
  },
  {
   "cell_type": "code",
   "execution_count": 514,
   "metadata": {
    "slideshow": {
     "slide_type": "skip"
    }
   },
   "outputs": [],
   "source": [
    "df_cleaned[\"duration_sec\"] =  df_cleaned[\"duration_sec\"] / 60"
   ]
  },
  {
   "cell_type": "markdown",
   "metadata": {
    "slideshow": {
     "slide_type": "skip"
    }
   },
   "source": [
    "<b>Test</b>"
   ]
  },
  {
   "cell_type": "code",
   "execution_count": 515,
   "metadata": {
    "slideshow": {
     "slide_type": "skip"
    }
   },
   "outputs": [
    {
     "data": {
      "text/plain": [
       "0          1014.383333\n",
       "1           600.316667\n",
       "2            93.583333\n",
       "3            24.700000\n",
       "4            21.200000\n",
       "              ...     \n",
       "2506978       8.000000\n",
       "2506979       5.216667\n",
       "2506980       2.350000\n",
       "2506981       2.316667\n",
       "2506982       4.516667\n",
       "Name: duration_sec, Length: 2262979, dtype: float64"
      ]
     },
     "execution_count": 515,
     "metadata": {},
     "output_type": "execute_result"
    }
   ],
   "source": [
    "df_cleaned[\"duration_sec\"]"
   ]
  },
  {
   "cell_type": "code",
   "execution_count": 516,
   "metadata": {
    "slideshow": {
     "slide_type": "skip"
    }
   },
   "outputs": [
    {
     "name": "stdout",
     "output_type": "stream",
     "text": [
      "<class 'pandas.core.frame.DataFrame'>\n",
      "Int64Index: 2262979 entries, 0 to 2506982\n",
      "Data columns (total 15 columns):\n",
      " #   Column                   Dtype         \n",
      "---  ------                   -----         \n",
      " 0   duration_sec             float64       \n",
      " 1   start_time               datetime64[ns]\n",
      " 2   end_time                 datetime64[ns]\n",
      " 3   start_station_id         object        \n",
      " 4   start_station_name       object        \n",
      " 5   start_station_latitude   float64       \n",
      " 6   start_station_longitude  float64       \n",
      " 7   end_station_id           object        \n",
      " 8   end_station_name         object        \n",
      " 9   end_station_latitude     float64       \n",
      " 10  end_station_longitude    float64       \n",
      " 11  bike_id                  object        \n",
      " 12  user_type                category      \n",
      " 13  bike_share_for_all_trip  category      \n",
      " 14  rental_access_method     object        \n",
      "dtypes: category(2), datetime64[ns](2), float64(5), object(6)\n",
      "memory usage: 246.0+ MB\n"
     ]
    }
   ],
   "source": [
    "df_cleaned.info()"
   ]
  },
  {
   "cell_type": "markdown",
   "metadata": {
    "slideshow": {
     "slide_type": "skip"
    }
   },
   "source": [
    "<b>Define:</b>\n",
    "\n",
    "Changing duration_sec name to duration. "
   ]
  },
  {
   "cell_type": "markdown",
   "metadata": {
    "slideshow": {
     "slide_type": "skip"
    }
   },
   "source": [
    "<b>Code:</b>"
   ]
  },
  {
   "cell_type": "code",
   "execution_count": 517,
   "metadata": {
    "slideshow": {
     "slide_type": "skip"
    }
   },
   "outputs": [],
   "source": [
    "# Renaming the column using .rename method\n",
    "df_cleaned.rename(columns = {'duration_sec':'duration'}, inplace = True)"
   ]
  },
  {
   "cell_type": "markdown",
   "metadata": {
    "slideshow": {
     "slide_type": "skip"
    }
   },
   "source": [
    "<b>Test:</b>"
   ]
  },
  {
   "cell_type": "code",
   "execution_count": 518,
   "metadata": {
    "slideshow": {
     "slide_type": "skip"
    }
   },
   "outputs": [
    {
     "name": "stdout",
     "output_type": "stream",
     "text": [
      "<class 'pandas.core.frame.DataFrame'>\n",
      "Int64Index: 2262979 entries, 0 to 2506982\n",
      "Data columns (total 15 columns):\n",
      " #   Column                   Dtype         \n",
      "---  ------                   -----         \n",
      " 0   duration                 float64       \n",
      " 1   start_time               datetime64[ns]\n",
      " 2   end_time                 datetime64[ns]\n",
      " 3   start_station_id         object        \n",
      " 4   start_station_name       object        \n",
      " 5   start_station_latitude   float64       \n",
      " 6   start_station_longitude  float64       \n",
      " 7   end_station_id           object        \n",
      " 8   end_station_name         object        \n",
      " 9   end_station_latitude     float64       \n",
      " 10  end_station_longitude    float64       \n",
      " 11  bike_id                  object        \n",
      " 12  user_type                category      \n",
      " 13  bike_share_for_all_trip  category      \n",
      " 14  rental_access_method     object        \n",
      "dtypes: category(2), datetime64[ns](2), float64(5), object(6)\n",
      "memory usage: 246.0+ MB\n"
     ]
    }
   ],
   "source": [
    "df_cleaned.info()"
   ]
  },
  {
   "cell_type": "markdown",
   "metadata": {
    "slideshow": {
     "slide_type": "skip"
    }
   },
   "source": [
    "<b>Define:</b>\n",
    "\n",
    "Converting `duration` to int"
   ]
  },
  {
   "cell_type": "markdown",
   "metadata": {
    "slideshow": {
     "slide_type": "skip"
    }
   },
   "source": [
    "<b>Code:</b>"
   ]
  },
  {
   "cell_type": "code",
   "execution_count": 519,
   "metadata": {
    "slideshow": {
     "slide_type": "skip"
    }
   },
   "outputs": [],
   "source": [
    "df_cleaned[\"duration\"] = df_cleaned[\"duration\"].astype(int)"
   ]
  },
  {
   "cell_type": "markdown",
   "metadata": {
    "slideshow": {
     "slide_type": "skip"
    }
   },
   "source": [
    "<b>Test:</b>"
   ]
  },
  {
   "cell_type": "markdown",
   "metadata": {
    "slideshow": {
     "slide_type": "skip"
    }
   },
   "source": [
    "<b>Define:</b>\n",
    "\n",
    "Creating two columns, one for the day and other for hour of the week."
   ]
  },
  {
   "cell_type": "code",
   "execution_count": 520,
   "metadata": {
    "slideshow": {
     "slide_type": "skip"
    }
   },
   "outputs": [],
   "source": [
    "df_cleaned['weekday'] = df_cleaned['start_time'].dt.strftime('%a')\n",
    "df_cleaned['hour'] = df_cleaned['start_time'].dt.hour\n",
    "\n",
    "weekdays = ['Mon','Tue','Wed','Thu','Fri', 'Sat', 'Sun']\n",
    "ordered_weekdays = pd.api.types.CategoricalDtype(ordered = True, categories = weekdays)\n",
    "df_cleaned['weekday'] = df_cleaned['weekday'].astype(ordered_weekdays)"
   ]
  },
  {
   "cell_type": "code",
   "execution_count": null,
   "metadata": {
    "slideshow": {
     "slide_type": "skip"
    }
   },
   "outputs": [],
   "source": []
  },
  {
   "cell_type": "markdown",
   "metadata": {
    "slideshow": {
     "slide_type": "skip"
    }
   },
   "source": [
    "<b>Test:</b>\n"
   ]
  },
  {
   "cell_type": "code",
   "execution_count": 521,
   "metadata": {
    "slideshow": {
     "slide_type": "skip"
    }
   },
   "outputs": [
    {
     "name": "stdout",
     "output_type": "stream",
     "text": [
      "<class 'pandas.core.frame.DataFrame'>\n",
      "Int64Index: 2262979 entries, 0 to 2506982\n",
      "Data columns (total 17 columns):\n",
      " #   Column                   Dtype         \n",
      "---  ------                   -----         \n",
      " 0   duration                 int64         \n",
      " 1   start_time               datetime64[ns]\n",
      " 2   end_time                 datetime64[ns]\n",
      " 3   start_station_id         object        \n",
      " 4   start_station_name       object        \n",
      " 5   start_station_latitude   float64       \n",
      " 6   start_station_longitude  float64       \n",
      " 7   end_station_id           object        \n",
      " 8   end_station_name         object        \n",
      " 9   end_station_latitude     float64       \n",
      " 10  end_station_longitude    float64       \n",
      " 11  bike_id                  object        \n",
      " 12  user_type                category      \n",
      " 13  bike_share_for_all_trip  category      \n",
      " 14  rental_access_method     object        \n",
      " 15  weekday                  category      \n",
      " 16  hour                     int64         \n",
      "dtypes: category(3), datetime64[ns](2), float64(4), int64(2), object(6)\n",
      "memory usage: 265.5+ MB\n"
     ]
    }
   ],
   "source": [
    "df_cleaned.info()"
   ]
  },
  {
   "cell_type": "markdown",
   "metadata": {
    "slideshow": {
     "slide_type": "skip"
    }
   },
   "source": [
    "<b>Define:</b>\n",
    "\n",
    "Calculating the distance using latitude and longitude"
   ]
  },
  {
   "cell_type": "code",
   "execution_count": 522,
   "metadata": {
    "slideshow": {
     "slide_type": "skip"
    }
   },
   "outputs": [],
   "source": [
    "import geopy.distance\n",
    "def distance_cal(start, end):\n",
    "    coords_1 = ([start])\n",
    "    coords_2 = ([end])\n",
    "    \n",
    "    return geopy.distance.geodesic(coords_1, coords_2).km\n",
    "    "
   ]
  },
  {
   "cell_type": "code",
   "execution_count": 523,
   "metadata": {
    "slideshow": {
     "slide_type": "skip"
    }
   },
   "outputs": [],
   "source": [
    "df_cleaned['distance'] = df_cleaned.apply(lambda x: distance_cal((x['start_station_latitude'], x['start_station_longitude']), (x['end_station_latitude'], x['end_station_longitude'])), axis=1)"
   ]
  },
  {
   "cell_type": "code",
   "execution_count": 524,
   "metadata": {
    "slideshow": {
     "slide_type": "skip"
    }
   },
   "outputs": [
    {
     "name": "stdout",
     "output_type": "stream",
     "text": [
      "<class 'pandas.core.frame.DataFrame'>\n",
      "Int64Index: 2262979 entries, 0 to 2506982\n",
      "Data columns (total 18 columns):\n",
      " #   Column                   Non-Null Count    Dtype         \n",
      "---  ------                   --------------    -----         \n",
      " 0   duration                 2262979 non-null  int64         \n",
      " 1   start_time               2262979 non-null  datetime64[ns]\n",
      " 2   end_time                 2262979 non-null  datetime64[ns]\n",
      " 3   start_station_id         2262979 non-null  object        \n",
      " 4   start_station_name       2262979 non-null  object        \n",
      " 5   start_station_latitude   2262979 non-null  float64       \n",
      " 6   start_station_longitude  2262979 non-null  float64       \n",
      " 7   end_station_id           2262979 non-null  object        \n",
      " 8   end_station_name         2262979 non-null  object        \n",
      " 9   end_station_latitude     2262979 non-null  float64       \n",
      " 10  end_station_longitude    2262979 non-null  float64       \n",
      " 11  bike_id                  2262979 non-null  object        \n",
      " 12  user_type                2262979 non-null  category      \n",
      " 13  bike_share_for_all_trip  2262979 non-null  category      \n",
      " 14  rental_access_method     0 non-null        object        \n",
      " 15  weekday                  2262979 non-null  category      \n",
      " 16  hour                     2262979 non-null  int64         \n",
      " 17  distance                 2262979 non-null  float64       \n",
      "dtypes: category(3), datetime64[ns](2), float64(5), int64(2), object(6)\n",
      "memory usage: 282.7+ MB\n"
     ]
    }
   ],
   "source": [
    "df_cleaned.info(null_counts = True)"
   ]
  },
  {
   "cell_type": "markdown",
   "metadata": {
    "slideshow": {
     "slide_type": "skip"
    }
   },
   "source": [
    "<b>Define:</b>\n",
    "Dropping the `rental_access_method` column since we don't have enough data in it and dropping null values from here will result to losing many useful data."
   ]
  },
  {
   "cell_type": "code",
   "execution_count": 525,
   "metadata": {
    "slideshow": {
     "slide_type": "skip"
    }
   },
   "outputs": [],
   "source": [
    "df_cleaned.drop(['rental_access_method'], axis = 1, inplace = True)"
   ]
  },
  {
   "cell_type": "markdown",
   "metadata": {
    "slideshow": {
     "slide_type": "skip"
    }
   },
   "source": [
    "<b>Test:</b>"
   ]
  },
  {
   "cell_type": "code",
   "execution_count": 526,
   "metadata": {
    "slideshow": {
     "slide_type": "skip"
    }
   },
   "outputs": [
    {
     "name": "stdout",
     "output_type": "stream",
     "text": [
      "<class 'pandas.core.frame.DataFrame'>\n",
      "Int64Index: 2262979 entries, 0 to 2506982\n",
      "Data columns (total 17 columns):\n",
      " #   Column                   Non-Null Count    Dtype         \n",
      "---  ------                   --------------    -----         \n",
      " 0   duration                 2262979 non-null  int64         \n",
      " 1   start_time               2262979 non-null  datetime64[ns]\n",
      " 2   end_time                 2262979 non-null  datetime64[ns]\n",
      " 3   start_station_id         2262979 non-null  object        \n",
      " 4   start_station_name       2262979 non-null  object        \n",
      " 5   start_station_latitude   2262979 non-null  float64       \n",
      " 6   start_station_longitude  2262979 non-null  float64       \n",
      " 7   end_station_id           2262979 non-null  object        \n",
      " 8   end_station_name         2262979 non-null  object        \n",
      " 9   end_station_latitude     2262979 non-null  float64       \n",
      " 10  end_station_longitude    2262979 non-null  float64       \n",
      " 11  bike_id                  2262979 non-null  object        \n",
      " 12  user_type                2262979 non-null  category      \n",
      " 13  bike_share_for_all_trip  2262979 non-null  category      \n",
      " 14  weekday                  2262979 non-null  category      \n",
      " 15  hour                     2262979 non-null  int64         \n",
      " 16  distance                 2262979 non-null  float64       \n",
      "dtypes: category(3), datetime64[ns](2), float64(5), int64(2), object(5)\n",
      "memory usage: 265.5+ MB\n"
     ]
    }
   ],
   "source": [
    "df_cleaned.info(null_counts = True)"
   ]
  },
  {
   "cell_type": "markdown",
   "metadata": {
    "slideshow": {
     "slide_type": "skip"
    }
   },
   "source": [
    "<b>Define:</b>\n",
    "\n",
    "Dropping distance values which are equal to zero"
   ]
  },
  {
   "cell_type": "markdown",
   "metadata": {
    "slideshow": {
     "slide_type": "skip"
    }
   },
   "source": [
    "<b>Code:</b>"
   ]
  },
  {
   "cell_type": "code",
   "execution_count": 527,
   "metadata": {
    "slideshow": {
     "slide_type": "skip"
    }
   },
   "outputs": [],
   "source": [
    "df_cleaned = df_cleaned[df_cleaned['distance'] != 0]"
   ]
  },
  {
   "cell_type": "markdown",
   "metadata": {
    "slideshow": {
     "slide_type": "skip"
    }
   },
   "source": [
    "<b>Test:</b>"
   ]
  },
  {
   "cell_type": "code",
   "execution_count": 528,
   "metadata": {
    "slideshow": {
     "slide_type": "skip"
    }
   },
   "outputs": [
    {
     "data": {
      "text/html": [
       "<div>\n",
       "<style scoped>\n",
       "    .dataframe tbody tr th:only-of-type {\n",
       "        vertical-align: middle;\n",
       "    }\n",
       "\n",
       "    .dataframe tbody tr th {\n",
       "        vertical-align: top;\n",
       "    }\n",
       "\n",
       "    .dataframe thead th {\n",
       "        text-align: right;\n",
       "    }\n",
       "</style>\n",
       "<table border=\"1\" class=\"dataframe\">\n",
       "  <thead>\n",
       "    <tr style=\"text-align: right;\">\n",
       "      <th></th>\n",
       "      <th>duration</th>\n",
       "      <th>start_time</th>\n",
       "      <th>end_time</th>\n",
       "      <th>start_station_id</th>\n",
       "      <th>start_station_name</th>\n",
       "      <th>start_station_latitude</th>\n",
       "      <th>start_station_longitude</th>\n",
       "      <th>end_station_id</th>\n",
       "      <th>end_station_name</th>\n",
       "      <th>end_station_latitude</th>\n",
       "      <th>end_station_longitude</th>\n",
       "      <th>bike_id</th>\n",
       "      <th>user_type</th>\n",
       "      <th>bike_share_for_all_trip</th>\n",
       "      <th>weekday</th>\n",
       "      <th>hour</th>\n",
       "      <th>distance</th>\n",
       "    </tr>\n",
       "  </thead>\n",
       "  <tbody>\n",
       "  </tbody>\n",
       "</table>\n",
       "</div>"
      ],
      "text/plain": [
       "Empty DataFrame\n",
       "Columns: [duration, start_time, end_time, start_station_id, start_station_name, start_station_latitude, start_station_longitude, end_station_id, end_station_name, end_station_latitude, end_station_longitude, bike_id, user_type, bike_share_for_all_trip, weekday, hour, distance]\n",
       "Index: []"
      ]
     },
     "execution_count": 528,
     "metadata": {},
     "output_type": "execute_result"
    }
   ],
   "source": [
    "df_cleaned[df_cleaned['distance'] == 0]"
   ]
  },
  {
   "cell_type": "code",
   "execution_count": 529,
   "metadata": {
    "slideshow": {
     "slide_type": "skip"
    }
   },
   "outputs": [
    {
     "name": "stdout",
     "output_type": "stream",
     "text": [
      "<class 'pandas.core.frame.DataFrame'>\n",
      "Int64Index: 2207595 entries, 1 to 2506982\n",
      "Data columns (total 17 columns):\n",
      " #   Column                   Non-Null Count    Dtype         \n",
      "---  ------                   --------------    -----         \n",
      " 0   duration                 2207595 non-null  int64         \n",
      " 1   start_time               2207595 non-null  datetime64[ns]\n",
      " 2   end_time                 2207595 non-null  datetime64[ns]\n",
      " 3   start_station_id         2207595 non-null  object        \n",
      " 4   start_station_name       2207595 non-null  object        \n",
      " 5   start_station_latitude   2207595 non-null  float64       \n",
      " 6   start_station_longitude  2207595 non-null  float64       \n",
      " 7   end_station_id           2207595 non-null  object        \n",
      " 8   end_station_name         2207595 non-null  object        \n",
      " 9   end_station_latitude     2207595 non-null  float64       \n",
      " 10  end_station_longitude    2207595 non-null  float64       \n",
      " 11  bike_id                  2207595 non-null  object        \n",
      " 12  user_type                2207595 non-null  category      \n",
      " 13  bike_share_for_all_trip  2207595 non-null  category      \n",
      " 14  weekday                  2207595 non-null  category      \n",
      " 15  hour                     2207595 non-null  int64         \n",
      " 16  distance                 2207595 non-null  float64       \n",
      "dtypes: category(3), datetime64[ns](2), float64(5), int64(2), object(5)\n",
      "memory usage: 259.0+ MB\n"
     ]
    }
   ],
   "source": [
    "df_cleaned.info(null_counts = True)"
   ]
  },
  {
   "cell_type": "markdown",
   "metadata": {
    "slideshow": {
     "slide_type": "skip"
    }
   },
   "source": [
    "<b>Define:</b>\n",
    "\n",
    "Adding a month column"
   ]
  },
  {
   "cell_type": "markdown",
   "metadata": {
    "slideshow": {
     "slide_type": "skip"
    }
   },
   "source": [
    "<b>Code:</b>"
   ]
  },
  {
   "cell_type": "code",
   "execution_count": 530,
   "metadata": {
    "slideshow": {
     "slide_type": "skip"
    }
   },
   "outputs": [],
   "source": [
    "df_cleaned['month'] = df_cleaned['start_time'].dt.month\n",
    "df_cleaned = df_cleaned.sort_values(by = 'month')"
   ]
  },
  {
   "cell_type": "code",
   "execution_count": 531,
   "metadata": {
    "slideshow": {
     "slide_type": "skip"
    }
   },
   "outputs": [
    {
     "data": {
      "text/html": [
       "<div>\n",
       "<style scoped>\n",
       "    .dataframe tbody tr th:only-of-type {\n",
       "        vertical-align: middle;\n",
       "    }\n",
       "\n",
       "    .dataframe tbody tr th {\n",
       "        vertical-align: top;\n",
       "    }\n",
       "\n",
       "    .dataframe thead th {\n",
       "        text-align: right;\n",
       "    }\n",
       "</style>\n",
       "<table border=\"1\" class=\"dataframe\">\n",
       "  <thead>\n",
       "    <tr style=\"text-align: right;\">\n",
       "      <th></th>\n",
       "      <th>duration</th>\n",
       "      <th>start_time</th>\n",
       "      <th>end_time</th>\n",
       "      <th>start_station_id</th>\n",
       "      <th>start_station_name</th>\n",
       "      <th>start_station_latitude</th>\n",
       "      <th>start_station_longitude</th>\n",
       "      <th>end_station_id</th>\n",
       "      <th>end_station_name</th>\n",
       "      <th>end_station_latitude</th>\n",
       "      <th>end_station_longitude</th>\n",
       "      <th>bike_id</th>\n",
       "      <th>user_type</th>\n",
       "      <th>bike_share_for_all_trip</th>\n",
       "      <th>weekday</th>\n",
       "      <th>hour</th>\n",
       "      <th>distance</th>\n",
       "      <th>month</th>\n",
       "    </tr>\n",
       "  </thead>\n",
       "  <tbody>\n",
       "    <tr>\n",
       "      <th>1652940</th>\n",
       "      <td>3</td>\n",
       "      <td>2019-01-19 00:36:39.800</td>\n",
       "      <td>2019-01-19 00:40:14.400</td>\n",
       "      <td>53.0</td>\n",
       "      <td>Grove St at Divisadero</td>\n",
       "      <td>37.775946</td>\n",
       "      <td>-122.437777</td>\n",
       "      <td>375.0</td>\n",
       "      <td>Grove St at Masonic Ave</td>\n",
       "      <td>37.774836</td>\n",
       "      <td>-122.446546</td>\n",
       "      <td>5276</td>\n",
       "      <td>Customer</td>\n",
       "      <td>No</td>\n",
       "      <td>Sat</td>\n",
       "      <td>0</td>\n",
       "      <td>0.782230</td>\n",
       "      <td>1</td>\n",
       "    </tr>\n",
       "    <tr>\n",
       "      <th>1586165</th>\n",
       "      <td>5</td>\n",
       "      <td>2019-01-28 18:23:42.752</td>\n",
       "      <td>2019-01-28 18:29:08.427</td>\n",
       "      <td>101.0</td>\n",
       "      <td>15th St at Potrero Ave</td>\n",
       "      <td>37.767079</td>\n",
       "      <td>-122.407359</td>\n",
       "      <td>67.0</td>\n",
       "      <td>San Francisco Caltrain Station 2  (Townsend St...</td>\n",
       "      <td>37.776639</td>\n",
       "      <td>-122.395526</td>\n",
       "      <td>4836</td>\n",
       "      <td>Subscriber</td>\n",
       "      <td>No</td>\n",
       "      <td>Mon</td>\n",
       "      <td>18</td>\n",
       "      <td>1.487551</td>\n",
       "      <td>1</td>\n",
       "    </tr>\n",
       "    <tr>\n",
       "      <th>1586164</th>\n",
       "      <td>16</td>\n",
       "      <td>2019-01-28 18:12:49.902</td>\n",
       "      <td>2019-01-28 18:29:10.890</td>\n",
       "      <td>24.0</td>\n",
       "      <td>Spear St at Folsom St</td>\n",
       "      <td>37.789677</td>\n",
       "      <td>-122.390428</td>\n",
       "      <td>115.0</td>\n",
       "      <td>Jackson Playground</td>\n",
       "      <td>37.765026</td>\n",
       "      <td>-122.398773</td>\n",
       "      <td>3243</td>\n",
       "      <td>Customer</td>\n",
       "      <td>No</td>\n",
       "      <td>Mon</td>\n",
       "      <td>18</td>\n",
       "      <td>2.833095</td>\n",
       "      <td>1</td>\n",
       "    </tr>\n",
       "    <tr>\n",
       "      <th>1586163</th>\n",
       "      <td>16</td>\n",
       "      <td>2019-01-28 18:13:00.433</td>\n",
       "      <td>2019-01-28 18:29:14.010</td>\n",
       "      <td>363.0</td>\n",
       "      <td>Salesforce Transit Center (Natoma St at 2nd St)</td>\n",
       "      <td>37.787492</td>\n",
       "      <td>-122.398285</td>\n",
       "      <td>126.0</td>\n",
       "      <td>Esprit Park</td>\n",
       "      <td>37.761634</td>\n",
       "      <td>-122.390648</td>\n",
       "      <td>3614</td>\n",
       "      <td>Subscriber</td>\n",
       "      <td>No</td>\n",
       "      <td>Mon</td>\n",
       "      <td>18</td>\n",
       "      <td>2.947826</td>\n",
       "      <td>1</td>\n",
       "    </tr>\n",
       "    <tr>\n",
       "      <th>1586162</th>\n",
       "      <td>4</td>\n",
       "      <td>2019-01-28 18:24:57.913</td>\n",
       "      <td>2019-01-28 18:29:15.436</td>\n",
       "      <td>282.0</td>\n",
       "      <td>Market St at Park St</td>\n",
       "      <td>37.332426</td>\n",
       "      <td>-121.890349</td>\n",
       "      <td>297.0</td>\n",
       "      <td>Locust St at Grant St</td>\n",
       "      <td>37.322980</td>\n",
       "      <td>-121.887931</td>\n",
       "      <td>3853</td>\n",
       "      <td>Subscriber</td>\n",
       "      <td>Yes</td>\n",
       "      <td>Mon</td>\n",
       "      <td>18</td>\n",
       "      <td>1.070112</td>\n",
       "      <td>1</td>\n",
       "    </tr>\n",
       "    <tr>\n",
       "      <th>...</th>\n",
       "      <td>...</td>\n",
       "      <td>...</td>\n",
       "      <td>...</td>\n",
       "      <td>...</td>\n",
       "      <td>...</td>\n",
       "      <td>...</td>\n",
       "      <td>...</td>\n",
       "      <td>...</td>\n",
       "      <td>...</td>\n",
       "      <td>...</td>\n",
       "      <td>...</td>\n",
       "      <td>...</td>\n",
       "      <td>...</td>\n",
       "      <td>...</td>\n",
       "      <td>...</td>\n",
       "      <td>...</td>\n",
       "      <td>...</td>\n",
       "      <td>...</td>\n",
       "    </tr>\n",
       "    <tr>\n",
       "      <th>2230810</th>\n",
       "      <td>11</td>\n",
       "      <td>2019-11-13 22:38:00.449</td>\n",
       "      <td>2019-11-13 22:49:29.206</td>\n",
       "      <td>308.0</td>\n",
       "      <td>San Pedro Square</td>\n",
       "      <td>37.336802</td>\n",
       "      <td>-121.894090</td>\n",
       "      <td>296.0</td>\n",
       "      <td>5th St at Virginia St</td>\n",
       "      <td>37.325998</td>\n",
       "      <td>-121.877120</td>\n",
       "      <td>10392</td>\n",
       "      <td>Subscriber</td>\n",
       "      <td>No</td>\n",
       "      <td>Wed</td>\n",
       "      <td>22</td>\n",
       "      <td>1.923420</td>\n",
       "      <td>11</td>\n",
       "    </tr>\n",
       "    <tr>\n",
       "      <th>2230809</th>\n",
       "      <td>18</td>\n",
       "      <td>2019-11-13 22:31:53.303</td>\n",
       "      <td>2019-11-13 22:50:26.669</td>\n",
       "      <td>258.0</td>\n",
       "      <td>University Ave at Oxford St</td>\n",
       "      <td>37.872355</td>\n",
       "      <td>-122.266447</td>\n",
       "      <td>176.0</td>\n",
       "      <td>MacArthur BART Station</td>\n",
       "      <td>37.828410</td>\n",
       "      <td>-122.266315</td>\n",
       "      <td>10356</td>\n",
       "      <td>Subscriber</td>\n",
       "      <td>No</td>\n",
       "      <td>Wed</td>\n",
       "      <td>22</td>\n",
       "      <td>4.877688</td>\n",
       "      <td>11</td>\n",
       "    </tr>\n",
       "    <tr>\n",
       "      <th>2230808</th>\n",
       "      <td>12</td>\n",
       "      <td>2019-11-13 22:39:53.152</td>\n",
       "      <td>2019-11-13 22:52:16.270</td>\n",
       "      <td>14.0</td>\n",
       "      <td>Clay St at Battery St</td>\n",
       "      <td>37.795001</td>\n",
       "      <td>-122.399970</td>\n",
       "      <td>324.0</td>\n",
       "      <td>Union Square (Powell St at Post St)</td>\n",
       "      <td>37.788300</td>\n",
       "      <td>-122.408531</td>\n",
       "      <td>2102</td>\n",
       "      <td>Subscriber</td>\n",
       "      <td>No</td>\n",
       "      <td>Wed</td>\n",
       "      <td>22</td>\n",
       "      <td>1.059125</td>\n",
       "      <td>11</td>\n",
       "    </tr>\n",
       "    <tr>\n",
       "      <th>2230806</th>\n",
       "      <td>12</td>\n",
       "      <td>2019-11-13 22:40:43.534</td>\n",
       "      <td>2019-11-13 22:53:14.665</td>\n",
       "      <td>270.0</td>\n",
       "      <td>Ninth St at Heinz Ave</td>\n",
       "      <td>37.853489</td>\n",
       "      <td>-122.289415</td>\n",
       "      <td>315.0</td>\n",
       "      <td>Market St at 45th St</td>\n",
       "      <td>37.834174</td>\n",
       "      <td>-122.272968</td>\n",
       "      <td>11262</td>\n",
       "      <td>Subscriber</td>\n",
       "      <td>No</td>\n",
       "      <td>Wed</td>\n",
       "      <td>22</td>\n",
       "      <td>2.586890</td>\n",
       "      <td>11</td>\n",
       "    </tr>\n",
       "    <tr>\n",
       "      <th>2276828</th>\n",
       "      <td>9</td>\n",
       "      <td>2019-11-07 09:12:04.814</td>\n",
       "      <td>2019-11-07 09:21:40.894</td>\n",
       "      <td>30.0</td>\n",
       "      <td>San Francisco Caltrain (Townsend St at 4th St)</td>\n",
       "      <td>37.776598</td>\n",
       "      <td>-122.395282</td>\n",
       "      <td>88.0</td>\n",
       "      <td>11th St at Bryant St</td>\n",
       "      <td>37.770030</td>\n",
       "      <td>-122.411726</td>\n",
       "      <td>918</td>\n",
       "      <td>Customer</td>\n",
       "      <td>No</td>\n",
       "      <td>Thu</td>\n",
       "      <td>9</td>\n",
       "      <td>1.621820</td>\n",
       "      <td>11</td>\n",
       "    </tr>\n",
       "  </tbody>\n",
       "</table>\n",
       "<p>2207595 rows × 18 columns</p>\n",
       "</div>"
      ],
      "text/plain": [
       "         duration              start_time                end_time  \\\n",
       "1652940         3 2019-01-19 00:36:39.800 2019-01-19 00:40:14.400   \n",
       "1586165         5 2019-01-28 18:23:42.752 2019-01-28 18:29:08.427   \n",
       "1586164        16 2019-01-28 18:12:49.902 2019-01-28 18:29:10.890   \n",
       "1586163        16 2019-01-28 18:13:00.433 2019-01-28 18:29:14.010   \n",
       "1586162         4 2019-01-28 18:24:57.913 2019-01-28 18:29:15.436   \n",
       "...           ...                     ...                     ...   \n",
       "2230810        11 2019-11-13 22:38:00.449 2019-11-13 22:49:29.206   \n",
       "2230809        18 2019-11-13 22:31:53.303 2019-11-13 22:50:26.669   \n",
       "2230808        12 2019-11-13 22:39:53.152 2019-11-13 22:52:16.270   \n",
       "2230806        12 2019-11-13 22:40:43.534 2019-11-13 22:53:14.665   \n",
       "2276828         9 2019-11-07 09:12:04.814 2019-11-07 09:21:40.894   \n",
       "\n",
       "        start_station_id                               start_station_name  \\\n",
       "1652940             53.0                           Grove St at Divisadero   \n",
       "1586165            101.0                           15th St at Potrero Ave   \n",
       "1586164             24.0                            Spear St at Folsom St   \n",
       "1586163            363.0  Salesforce Transit Center (Natoma St at 2nd St)   \n",
       "1586162            282.0                             Market St at Park St   \n",
       "...                  ...                                              ...   \n",
       "2230810            308.0                                 San Pedro Square   \n",
       "2230809            258.0                      University Ave at Oxford St   \n",
       "2230808             14.0                            Clay St at Battery St   \n",
       "2230806            270.0                            Ninth St at Heinz Ave   \n",
       "2276828             30.0   San Francisco Caltrain (Townsend St at 4th St)   \n",
       "\n",
       "         start_station_latitude  start_station_longitude end_station_id  \\\n",
       "1652940               37.775946              -122.437777          375.0   \n",
       "1586165               37.767079              -122.407359           67.0   \n",
       "1586164               37.789677              -122.390428          115.0   \n",
       "1586163               37.787492              -122.398285          126.0   \n",
       "1586162               37.332426              -121.890349          297.0   \n",
       "...                         ...                      ...            ...   \n",
       "2230810               37.336802              -121.894090          296.0   \n",
       "2230809               37.872355              -122.266447          176.0   \n",
       "2230808               37.795001              -122.399970          324.0   \n",
       "2230806               37.853489              -122.289415          315.0   \n",
       "2276828               37.776598              -122.395282           88.0   \n",
       "\n",
       "                                          end_station_name  \\\n",
       "1652940                            Grove St at Masonic Ave   \n",
       "1586165  San Francisco Caltrain Station 2  (Townsend St...   \n",
       "1586164                                 Jackson Playground   \n",
       "1586163                                        Esprit Park   \n",
       "1586162                              Locust St at Grant St   \n",
       "...                                                    ...   \n",
       "2230810                              5th St at Virginia St   \n",
       "2230809                             MacArthur BART Station   \n",
       "2230808                Union Square (Powell St at Post St)   \n",
       "2230806                               Market St at 45th St   \n",
       "2276828                               11th St at Bryant St   \n",
       "\n",
       "         end_station_latitude  end_station_longitude bike_id   user_type  \\\n",
       "1652940             37.774836            -122.446546    5276    Customer   \n",
       "1586165             37.776639            -122.395526    4836  Subscriber   \n",
       "1586164             37.765026            -122.398773    3243    Customer   \n",
       "1586163             37.761634            -122.390648    3614  Subscriber   \n",
       "1586162             37.322980            -121.887931    3853  Subscriber   \n",
       "...                       ...                    ...     ...         ...   \n",
       "2230810             37.325998            -121.877120   10392  Subscriber   \n",
       "2230809             37.828410            -122.266315   10356  Subscriber   \n",
       "2230808             37.788300            -122.408531    2102  Subscriber   \n",
       "2230806             37.834174            -122.272968   11262  Subscriber   \n",
       "2276828             37.770030            -122.411726     918    Customer   \n",
       "\n",
       "        bike_share_for_all_trip weekday  hour  distance  month  \n",
       "1652940                      No     Sat     0  0.782230      1  \n",
       "1586165                      No     Mon    18  1.487551      1  \n",
       "1586164                      No     Mon    18  2.833095      1  \n",
       "1586163                      No     Mon    18  2.947826      1  \n",
       "1586162                     Yes     Mon    18  1.070112      1  \n",
       "...                         ...     ...   ...       ...    ...  \n",
       "2230810                      No     Wed    22  1.923420     11  \n",
       "2230809                      No     Wed    22  4.877688     11  \n",
       "2230808                      No     Wed    22  1.059125     11  \n",
       "2230806                      No     Wed    22  2.586890     11  \n",
       "2276828                      No     Thu     9  1.621820     11  \n",
       "\n",
       "[2207595 rows x 18 columns]"
      ]
     },
     "execution_count": 531,
     "metadata": {},
     "output_type": "execute_result"
    }
   ],
   "source": [
    "df_cleaned"
   ]
  },
  {
   "cell_type": "code",
   "execution_count": 532,
   "metadata": {
    "slideshow": {
     "slide_type": "skip"
    }
   },
   "outputs": [],
   "source": [
    "df_cleaned['month'] = df_cleaned['month'].apply(lambda x: calendar.month_abbr[x])"
   ]
  },
  {
   "cell_type": "markdown",
   "metadata": {
    "slideshow": {
     "slide_type": "skip"
    }
   },
   "source": [
    "<b>Define:</b> \n",
    "\n",
    "Dropping unnecessary columns from the dataset (Latitude)  "
   ]
  },
  {
   "cell_type": "markdown",
   "metadata": {
    "slideshow": {
     "slide_type": "skip"
    }
   },
   "source": [
    "<b>Code:</b>"
   ]
  },
  {
   "cell_type": "code",
   "execution_count": 533,
   "metadata": {
    "slideshow": {
     "slide_type": "skip"
    }
   },
   "outputs": [],
   "source": [
    "df_cleaned.drop(['start_station_latitude', 'start_station_longitude', 'end_station_latitude', 'end_station_longitude'], axis = 1, inplace = True)"
   ]
  },
  {
   "cell_type": "markdown",
   "metadata": {
    "slideshow": {
     "slide_type": "skip"
    }
   },
   "source": [
    "<b>Test:</b>"
   ]
  },
  {
   "cell_type": "code",
   "execution_count": 534,
   "metadata": {
    "slideshow": {
     "slide_type": "skip"
    }
   },
   "outputs": [
    {
     "name": "stdout",
     "output_type": "stream",
     "text": [
      "<class 'pandas.core.frame.DataFrame'>\n",
      "Int64Index: 2207595 entries, 1652940 to 2276828\n",
      "Data columns (total 14 columns):\n",
      " #   Column                   Non-Null Count    Dtype         \n",
      "---  ------                   --------------    -----         \n",
      " 0   duration                 2207595 non-null  int64         \n",
      " 1   start_time               2207595 non-null  datetime64[ns]\n",
      " 2   end_time                 2207595 non-null  datetime64[ns]\n",
      " 3   start_station_id         2207595 non-null  object        \n",
      " 4   start_station_name       2207595 non-null  object        \n",
      " 5   end_station_id           2207595 non-null  object        \n",
      " 6   end_station_name         2207595 non-null  object        \n",
      " 7   bike_id                  2207595 non-null  object        \n",
      " 8   user_type                2207595 non-null  category      \n",
      " 9   bike_share_for_all_trip  2207595 non-null  category      \n",
      " 10  weekday                  2207595 non-null  category      \n",
      " 11  hour                     2207595 non-null  int64         \n",
      " 12  distance                 2207595 non-null  float64       \n",
      " 13  month                    2207595 non-null  object        \n",
      "dtypes: category(3), datetime64[ns](2), float64(1), int64(2), object(6)\n",
      "memory usage: 208.4+ MB\n"
     ]
    }
   ],
   "source": [
    "df_cleaned.info(null_counts = True)"
   ]
  },
  {
   "cell_type": "markdown",
   "metadata": {
    "slideshow": {
     "slide_type": "skip"
    }
   },
   "source": [
    "<a name = 'store'></a>\n",
    "# Storing Data"
   ]
  },
  {
   "cell_type": "code",
   "execution_count": 535,
   "metadata": {
    "slideshow": {
     "slide_type": "skip"
    }
   },
   "outputs": [],
   "source": [
    "df_cleaned.to_csv('bikes_master_ordered.csv', index = False)"
   ]
  },
  {
   "cell_type": "code",
   "execution_count": 536,
   "metadata": {
    "slideshow": {
     "slide_type": "skip"
    }
   },
   "outputs": [
    {
     "name": "stdout",
     "output_type": "stream",
     "text": [
      "<class 'pandas.core.frame.DataFrame'>\n",
      "Int64Index: 2207595 entries, 1652940 to 2276828\n",
      "Data columns (total 14 columns):\n",
      " #   Column                   Non-Null Count    Dtype         \n",
      "---  ------                   --------------    -----         \n",
      " 0   duration                 2207595 non-null  int64         \n",
      " 1   start_time               2207595 non-null  datetime64[ns]\n",
      " 2   end_time                 2207595 non-null  datetime64[ns]\n",
      " 3   start_station_id         2207595 non-null  object        \n",
      " 4   start_station_name       2207595 non-null  object        \n",
      " 5   end_station_id           2207595 non-null  object        \n",
      " 6   end_station_name         2207595 non-null  object        \n",
      " 7   bike_id                  2207595 non-null  object        \n",
      " 8   user_type                2207595 non-null  category      \n",
      " 9   bike_share_for_all_trip  2207595 non-null  category      \n",
      " 10  weekday                  2207595 non-null  category      \n",
      " 11  hour                     2207595 non-null  int64         \n",
      " 12  distance                 2207595 non-null  float64       \n",
      " 13  month                    2207595 non-null  object        \n",
      "dtypes: category(3), datetime64[ns](2), float64(1), int64(2), object(6)\n",
      "memory usage: 208.4+ MB\n"
     ]
    }
   ],
   "source": [
    "df_cleaned.info(null_counts = True)"
   ]
  },
  {
   "cell_type": "markdown",
   "metadata": {
    "slideshow": {
     "slide_type": "skip"
    }
   },
   "source": [
    "# Data Analysis"
   ]
  },
  {
   "cell_type": "markdown",
   "metadata": {
    "slideshow": {
     "slide_type": "slide"
    }
   },
   "source": [
    "<b>What is the structure of your dataset?</b>\n",
    "\n",
    "There are 2207595 entries in the dataset with 13 features (duration, start_time, end_time, start_station_id, start_station_name, end_station_id, end_station_name, bike_id, user_type, bike_share_for_all_trip, distance, month, weekday and hour). Some variables are numeric in nature like duration, distance and hour. Other variables like user_type, bike_share_for_all_trip, and weekday are categoricl variables. Lastly, start_time and end_time are datetime."
   ]
  },
  {
   "cell_type": "markdown",
   "metadata": {
    "slideshow": {
     "slide_type": "skip"
    }
   },
   "source": [
    "<b>What is/are the main feature(s) of interest in your dataset?</b>"
   ]
  },
  {
   "cell_type": "markdown",
   "metadata": {
    "slideshow": {
     "slide_type": "skip"
    }
   },
   "source": [
    "I'm almost interested in trying to understand the time(hour/day/month) that users use bikes in to know more about users' behaviours."
   ]
  },
  {
   "cell_type": "markdown",
   "metadata": {
    "slideshow": {
     "slide_type": "skip"
    }
   },
   "source": [
    "<b>What features in the dataset do you think will help support your investigation into your feature(s) of interest</b>"
   ]
  },
  {
   "cell_type": "markdown",
   "metadata": {
    "slideshow": {
     "slide_type": "skip"
    }
   },
   "source": [
    "I expect that users tend to be more active in the morning as it is the time where everyone goes to work/school."
   ]
  },
  {
   "cell_type": "markdown",
   "metadata": {
    "slideshow": {
     "slide_type": "skip"
    }
   },
   "source": [
    "### Univariate Exploration"
   ]
  },
  {
   "cell_type": "markdown",
   "metadata": {
    "slideshow": {
     "slide_type": "slide"
    }
   },
   "source": [
    "#### 1. Number of rides per month"
   ]
  },
  {
   "cell_type": "code",
   "execution_count": 537,
   "metadata": {
    "slideshow": {
     "slide_type": "skip"
    }
   },
   "outputs": [],
   "source": [
    "base_color = sns.color_palette()[0]"
   ]
  },
  {
   "cell_type": "code",
   "execution_count": 538,
   "metadata": {
    "scrolled": false,
    "slideshow": {
     "slide_type": "subslide"
    }
   },
   "outputs": [
    {
     "data": {
      "image/png": "[encoded data removed]",
      "text/plain": [
       "<Figure size 720x432 with 1 Axes>"
      ]
     },
     "metadata": {
      "needs_background": "light"
     },
     "output_type": "display_data"
    }
   ],
   "source": [
    "# Number of rides per month\n",
    "figure(figsize=(10, 6))\n",
    "\n",
    "\n",
    "ax = sns.countplot(x = 'month', data = df_cleaned, color = base_color)\n",
    "ax.set_title(\"Number of Rides per Month\", fontsize = 18)\n",
    "plt.xlabel('Month');\n",
    "\n"
   ]
  },
  {
   "cell_type": "markdown",
   "metadata": {
    "slideshow": {
     "slide_type": "subslide"
    }
   },
   "source": [
    "Spring has the most rides especially in March and April followed by October that has the third most popular rides. We can conclude that during spring break, we had the most rides."
   ]
  },
  {
   "cell_type": "markdown",
   "metadata": {
    "slideshow": {
     "slide_type": "slide"
    }
   },
   "source": [
    "#### 2. Number of Trips per Day of the Week"
   ]
  },
  {
   "cell_type": "code",
   "execution_count": 541,
   "metadata": {
    "slideshow": {
     "slide_type": "subslide"
    }
   },
   "outputs": [
    {
     "data": {
      "image/png": "[encoded data removed]",
      "text/plain": [
       "<Figure size 720x432 with 1 Axes>"
      ]
     },
     "metadata": {
      "needs_background": "light"
     },
     "output_type": "display_data"
    }
   ],
   "source": [
    "# Visualizing the total number of Trips per weekday\n",
    "figure(figsize=(10, 6))\n",
    "\n",
    "\n",
    "ax = sns.countplot(data = df_cleaned, x='weekday', color = base_color)\n",
    "\n",
    "plt.xlabel('Weekday')\n",
    "plt.ylabel('Number of Bike Trips')\n",
    "\n",
    "ax.set_title('Number of Trips per Day of the Week');"
   ]
  },
  {
   "cell_type": "markdown",
   "metadata": {
    "slideshow": {
     "slide_type": "subslide"
    }
   },
   "source": [
    "Thursdays and Tuesdays are the most popular days for using bikes, however Wednesday, Mondays and Fridays are very close to Tues & Weds numbers. All of that suggests that Bike usage are more usable on the workdays than weekends."
   ]
  },
  {
   "cell_type": "markdown",
   "metadata": {
    "slideshow": {
     "slide_type": "slide"
    }
   },
   "source": [
    "#### 3. Number of Trips per Hour"
   ]
  },
  {
   "cell_type": "code",
   "execution_count": 542,
   "metadata": {
    "slideshow": {
     "slide_type": "subslide"
    }
   },
   "outputs": [
    {
     "data": {
      "image/png": "[encoded data removed]",
      "text/plain": [
       "<Figure size 684x360 with 1 Axes>"
      ]
     },
     "metadata": {
      "needs_background": "light"
     },
     "output_type": "display_data"
    }
   ],
   "source": [
    "# Hourly usage of the Bike System\n",
    "ax = sns.catplot(x = 'hour', kind = 'count', color = base_color, data = df_cleaned, aspect = 1.9)\n",
    "\n",
    "ax.set_axis_labels('Hours', 'Number of Rides')\n",
    "\n",
    "ax.fig.suptitle('Bike System Usage per Hour', y = 1.05, fontsize = 14);"
   ]
  },
  {
   "cell_type": "markdown",
   "metadata": {
    "slideshow": {
     "slide_type": "subslide"
    }
   },
   "source": [
    "The most usage of bikes were in thee morning between 7 - 9 AM in the morning and 16 - 19 which is a tpyical workingday in the US and that proves our previous findings that workdays have more usage than weekends."
   ]
  },
  {
   "cell_type": "markdown",
   "metadata": {
    "slideshow": {
     "slide_type": "slide"
    }
   },
   "source": [
    "#### 4. Trip Duration Distribution  "
   ]
  },
  {
   "cell_type": "code",
   "execution_count": 543,
   "metadata": {
    "slideshow": {
     "slide_type": "skip"
    }
   },
   "outputs": [
    {
     "data": {
      "text/plain": [
       "39.0"
      ]
     },
     "execution_count": 543,
     "metadata": {},
     "output_type": "execute_result"
    }
   ],
   "source": [
    "df_cleaned[\"duration\"].describe(percentiles = [.98])[\"98%\"]"
   ]
  },
  {
   "cell_type": "code",
   "execution_count": 544,
   "metadata": {
    "slideshow": {
     "slide_type": "skip"
    }
   },
   "outputs": [
    {
     "data": {
      "text/plain": [
       "14.0"
      ]
     },
     "execution_count": 544,
     "metadata": {},
     "output_type": "execute_result"
    }
   ],
   "source": [
    "df_cleaned[\"duration\"].describe()[\"75%\"]"
   ]
  },
  {
   "cell_type": "code",
   "execution_count": 545,
   "metadata": {
    "slideshow": {
     "slide_type": "skip"
    }
   },
   "outputs": [
    {
     "data": {
      "text/plain": [
       "12.39174305069544"
      ]
     },
     "execution_count": 545,
     "metadata": {},
     "output_type": "execute_result"
    }
   ],
   "source": [
    "df_cleaned[\"duration\"].mean()"
   ]
  },
  {
   "cell_type": "code",
   "execution_count": 546,
   "metadata": {
    "scrolled": true,
    "slideshow": {
     "slide_type": "subslide"
    }
   },
   "outputs": [
    {
     "data": {
      "image/png": "[encoded data removed]",
      "text/plain": [
       "<Figure size 432x288 with 1 Axes>"
      ]
     },
     "metadata": {
      "needs_background": "light"
     },
     "output_type": "display_data"
    }
   ],
   "source": [
    "# Duration of rides in Minutes\n",
    "bin_edges = np.arange(1, 39 + 0.5, 0.5)\n",
    "ticks = [0, 5, 10, 15, 20, 25, 30,  35, 40]\n",
    "labels = ['{}'.format(val) for val in ticks]\n",
    "\n",
    "plt.hist(data = df_cleaned, x = 'duration', bins = bin_edges);\n",
    "\n",
    "plt.title(\"Trip Duration in Minutes\", y = 1.01, fontsize=16)\n",
    "plt.xlabel('Duration (Minutes)')\n",
    "plt.ylabel('Number of Trips');"
   ]
  },
  {
   "cell_type": "markdown",
   "metadata": {
    "slideshow": {
     "slide_type": "subslide"
    }
   },
   "source": [
    "The average trip is under 12.5 minutes, with 75% of trips being under 14 minutes. By Looking at the histogram, most rides fall in between the 3 - 12 minute range. We can conlcude from that riders are taking the bikes short distances."
   ]
  },
  {
   "cell_type": "markdown",
   "metadata": {
    "slideshow": {
     "slide_type": "skip"
    }
   },
   "source": [
    "### Bivariate Exploration"
   ]
  },
  {
   "cell_type": "markdown",
   "metadata": {
    "slideshow": {
     "slide_type": "slide"
    }
   },
   "source": [
    "#### 5. The Visuals of Customers vs Subscribers"
   ]
  },
  {
   "cell_type": "code",
   "execution_count": 547,
   "metadata": {
    "slideshow": {
     "slide_type": "skip"
    }
   },
   "outputs": [],
   "source": [
    "# Customers vs Subscribers\n",
    "customer = df_cleaned.query('user_type == \"Customer\"')['bike_id'].count()\n",
    "subscriber = df_cleaned.query('user_type == \"Subscriber\"')['bike_id'].count()\n",
    "customer_prop = customer / df_cleaned['bike_id'].count()\n",
    "subscriber_prop = subscriber / df_cleaned['bike_id'].count()"
   ]
  },
  {
   "cell_type": "code",
   "execution_count": 548,
   "metadata": {
    "slideshow": {
     "slide_type": "subslide"
    }
   },
   "outputs": [
    {
     "data": {
      "image/png": "[encoded data removed]",
      "text/plain": [
       "<Figure size 576x360 with 1 Axes>"
      ]
     },
     "metadata": {},
     "output_type": "display_data"
    }
   ],
   "source": [
    "# The Visuals of Customers vs Subscribers\n",
    "plt.figure(figsize = [8, 5])\n",
    "\n",
    "labels = ['Customer', 'Subscriber']\n",
    "size = [customer_prop, subscriber_prop]\n",
    "explode = (0, 0.1)\n",
    "\n",
    "plt.pie(size, explode = explode, labels = labels, autopct='%1.1f%%', shadow = True, startangle = 90)\n",
    "plt.axis('equal')\n",
    "\n",
    "plt.suptitle('The Bike Usage of Customers vs Subscribers', y = 1.05, fontsize = 16);"
   ]
  },
  {
   "cell_type": "code",
   "execution_count": 549,
   "metadata": {
    "slideshow": {
     "slide_type": "skip"
    }
   },
   "outputs": [
    {
     "data": {
      "image/png": "[encoded data removed]",
      "text/plain": [
       "<Figure size 720x432 with 1 Axes>"
      ]
     },
     "metadata": {
      "needs_background": "light"
     },
     "output_type": "display_data"
    }
   ],
   "source": [
    "figure(figsize=(10, 6))\n",
    "\n",
    "#Setting them in order\n",
    "user_type_order = df_cleaned[\"user_type\"].value_counts().index\n",
    "\n",
    "\n",
    "ax = sns.countplot( df_cleaned[\"user_type\"], color = base_color, order = user_type_order)\n",
    "ax.set_title(\"Number of Bike Trips per User Type\", fontsize = 18)\n",
    "plt.xlabel('User type')\n",
    "plt.ylabel('Number of Bikes Trips');\n"
   ]
  },
  {
   "cell_type": "markdown",
   "metadata": {
    "slideshow": {
     "slide_type": "subslide"
    }
   },
   "source": [
    "Subscribers' users had the most of bike usage with a percentage of 83%."
   ]
  },
  {
   "cell_type": "markdown",
   "metadata": {
    "slideshow": {
     "slide_type": "slide"
    }
   },
   "source": [
    "#### 6. Duration by user type"
   ]
  },
  {
   "cell_type": "code",
   "execution_count": 557,
   "metadata": {
    "slideshow": {
     "slide_type": "subslide"
    }
   },
   "outputs": [
    {
     "data": {
      "image/png": "[encoded data removed]",
      "text/plain": [
       "<Figure size 720x360 with 2 Axes>"
      ]
     },
     "metadata": {
      "needs_background": "light"
     },
     "output_type": "display_data"
    }
   ],
   "source": [
    "# Checking the duration per user type\n",
    "data = df_cleaned.query('duration < 39')\n",
    "\n",
    "ax = sns.catplot(y = 'duration', col = \"user_type\", data = data, kind = 'box', color = base_color)\n",
    "\n",
    "ax.set_titles(col_template = '{col_name}')\n",
    "ax.set_axis_labels(\"\", \"Duration (Minutes)\")\n",
    "ax.fig.suptitle('Duration per User Type', y = 1.01, fontsize = 16);"
   ]
  },
  {
   "cell_type": "markdown",
   "metadata": {
    "slideshow": {
     "slide_type": "subslide"
    }
   },
   "source": [
    "The boxplot shows that customers use bikes for a longer time than subscribers."
   ]
  },
  {
   "cell_type": "markdown",
   "metadata": {
    "slideshow": {
     "slide_type": "slide"
    }
   },
   "source": [
    "#### 7. Number of Bike Trips for every user type per hour"
   ]
  },
  {
   "cell_type": "code",
   "execution_count": 556,
   "metadata": {
    "scrolled": true,
    "slideshow": {
     "slide_type": "subslide"
    }
   },
   "outputs": [
    {
     "data": {
      "image/png": "[encoded data removed]",
      "text/plain": [
       "<Figure size 1440x360 with 2 Axes>"
      ]
     },
     "metadata": {
      "needs_background": "light"
     },
     "output_type": "display_data"
    }
   ],
   "source": [
    "# Bike usage of user type (Customer & Subscriber) by duration\n",
    "ax = sns.catplot(x = 'hour', col = 'user_type', data = df_cleaned, kind = 'count',\n",
    "                 sharey = False, color = base_color, aspect = 2);\n",
    "\n",
    "ax.set_axis_labels('hour', 'Number of Trips')\n",
    "ax.set_titles('{col_name}')\n",
    "\n",
    "ax.fig.suptitle('Customers vs Subscribers Starting Hours', y=1.05, fontsize=16);\n",
    "ax.set_xticklabels(rotation = 60);"
   ]
  },
  {
   "cell_type": "markdown",
   "metadata": {},
   "source": [
    "Customers' favorite hour of riding is 17 and 18 followed by 8. On the other hand, subscribers' favorite hour is 17 and 8 followed by 9. Addtionally, customers seems to be actively using bikesin the afternoon than subscribers do."
   ]
  },
  {
   "cell_type": "markdown",
   "metadata": {},
   "source": [
    "#### 8. Number of Bike Trips for every user type per day"
   ]
  },
  {
   "cell_type": "code",
   "execution_count": 552,
   "metadata": {},
   "outputs": [
    {
     "data": {
      "image/png": "[encoded data removed]",
      "text/plain": [
       "<Figure size 648x432 with 1 Axes>"
      ]
     },
     "metadata": {
      "needs_background": "light"
     },
     "output_type": "display_data"
    }
   ],
   "source": [
    "# Visualizing the Daily usage per user type per weekday\n",
    "\n",
    "plt.figure(figsize=[9, 6]);\n",
    "\n",
    "\n",
    "sorted_values = df_cleaned[\"user_type\"].value_counts()/df_cleaned.shape[0];\n",
    "\n",
    "ax = sns.countplot(data = df_cleaned, x = 'weekday', hue = 'user_type', hue_order = sorted_values.index);\n",
    "ax.legend(title='User Type');\n",
    "plt.xticks(rotation = 35);\n",
    "plt.xlabel('');\n",
    "plt.ylabel('Count');\n",
    "plt.suptitle('Daily Usage per User Type', fontsize = 17, y = 1.05);"
   ]
  },
  {
   "cell_type": "markdown",
   "metadata": {
    "slideshow": {
     "slide_type": "subslide"
    }
   },
   "source": [
    "Customers' favorite hour of riding is 17 and 18 followed by 8. On the other hand, subscribers' favorite hour is 17 and 8 followed by 9. Addtionally, customers seems to be actively using bikesin the afternoon than subscribers do."
   ]
  },
  {
   "cell_type": "markdown",
   "metadata": {
    "slideshow": {
     "slide_type": "skip"
    }
   },
   "source": [
    "### Multivariate Exploration"
   ]
  },
  {
   "cell_type": "markdown",
   "metadata": {
    "slideshow": {
     "slide_type": "slide"
    }
   },
   "source": [
    "#### 8. The Average Trip Duration in Minutes per User Type"
   ]
  },
  {
   "cell_type": "code",
   "execution_count": 553,
   "metadata": {
    "slideshow": {
     "slide_type": "subslide"
    }
   },
   "outputs": [
    {
     "data": {
      "image/png": "[encoded data removed]",
      "text/plain": [
       "<Figure size 432x288 with 1 Axes>"
      ]
     },
     "metadata": {
      "needs_background": "light"
     },
     "output_type": "display_data"
    }
   ],
   "source": [
    "sns.pointplot(x = 'weekday', y = 'duration', data = df_cleaned, hue='user_type', dodge = 0.4)\n",
    "plt.title('The Average Trip Duration per User Type')\n",
    "plt.xlabel('Day of the Week')\n",
    "plt.ylabel('The Average Trip Duration(Minutes)');"
   ]
  },
  {
   "cell_type": "markdown",
   "metadata": {
    "slideshow": {
     "slide_type": "subslide"
    }
   },
   "source": [
    "This plot suggests that subscribers riders use bikes for a shorter period customers. For both users, the average duration is much higher during the weekends. Subscribers users usage of bikes are more efficient than customers. Customers might be using it for fun."
   ]
  },
  {
   "cell_type": "markdown",
   "metadata": {
    "slideshow": {
     "slide_type": "slide"
    }
   },
   "source": [
    "#### 9. Hourly Usage per Weekdays for Customers and Subscribers"
   ]
  },
  {
   "cell_type": "code",
   "execution_count": 555,
   "metadata": {
    "slideshow": {
     "slide_type": "subslide"
    }
   },
   "outputs": [
    {
     "data": {
      "image/png": "[encoded data removed]",
      "text/plain": [
       "<Figure size 576x576 with 4 Axes>"
      ]
     },
     "metadata": {
      "needs_background": "light"
     },
     "output_type": "display_data"
    }
   ],
   "source": [
    "plt.subplots(figsize=(8,8))\n",
    "plt.suptitle('Hourly Usage per Weekdays for each user type')\n",
    "\n",
    "plt.subplot(2, 1, 1)\n",
    "customers = df_cleaned.query('user_type == \"Customer\"')\n",
    "cust_counts = customers.groupby(['weekday', 'hour']).size()\n",
    "cust_counts = cust_counts.reset_index(name = 'count')\n",
    "cust_counts = cust_counts.pivot(index = 'weekday', columns = 'hour', values = 'count')\n",
    "sns.heatmap(cust_counts, cmap = 'viridis_r');\n",
    "plt.title('Customer', loc = 'right');\n",
    "plt.xlabel('Hour of the Day');\n",
    "plt.ylabel('Day of the Week');\n",
    "\n",
    "plt.subplot(2, 1, 2)\n",
    "subscribers = df_cleaned.query('user_type == \"Subscriber\"')\n",
    "sub_counts = subscribers.groupby(['weekday', 'hour']).size()\n",
    "sub_counts = sub_counts.reset_index(name = 'count')\n",
    "sub_counts = sub_counts.pivot(index = 'weekday', columns = 'hour', values='count')\n",
    "sns.heatmap(sub_counts, cmap='viridis_r');\n",
    "plt.title('Subscriber', loc = 'right');\n",
    "plt.xlabel('Hour of the Day');\n",
    "plt.ylabel('Day of the Week');"
   ]
  },
  {
   "cell_type": "markdown",
   "metadata": {
    "slideshow": {
     "slide_type": "subslide"
    }
   },
   "source": [
    "The heatmaps show that subscribers use the system a lot on working days, Monday to Friday whereas customers ride a lot on weekends, especially in the afternoon between 11:00 AM to 16:00 PM. But on the working days they also use it in the morning customoers. Many trips are between 8:00 to 10:00 AM and 16:00 to 18:00 PM on working days. Therefore, we can conlude that custommers prefer weekend afternoons more than subscribers, however, subscribers uses more bikes in the weekdays in the morning and afternnoon, the reason might be for working or school. "
   ]
  },
  {
   "cell_type": "markdown",
   "metadata": {
    "slideshow": {
     "slide_type": "skip"
    }
   },
   "source": [
    "<b>Talk about some of the relationships you observed in this part of the investigation. Were there features that strengthened each other in terms of looking at your feature(s) of interest?</b>"
   ]
  },
  {
   "cell_type": "markdown",
   "metadata": {
    "slideshow": {
     "slide_type": "skip"
    }
   },
   "source": [
    "The Multivariate Exploration strengthened most of the patterns from my previous findings. The short period of bike usage are for subscribers that use it for a very short duration between Monday and Friday, which indicates to that bikes are used for work/study commute. On the other hand, plots are showing that customers have a very flexiable duration and also they use bikes more often on weekends, which suggests that they use for tours or lesisure."
   ]
  },
  {
   "cell_type": "markdown",
   "metadata": {
    "slideshow": {
     "slide_type": "skip"
    }
   },
   "source": [
    "<b>Were there any interesting or surprising interactions between features?</b>"
   ]
  },
  {
   "cell_type": "markdown",
   "metadata": {
    "slideshow": {
     "slide_type": "skip"
    }
   },
   "source": [
    "Nothing was suprising to me but I guess this is because the data missed gender and age column which were available in the previous years but not in 2019."
   ]
  },
  {
   "cell_type": "markdown",
   "metadata": {
    "slideshow": {
     "slide_type": "skip"
    }
   },
   "source": [
    "### Sources:\n",
    "\n",
    "1. https://seaborn.pydata.org/generated/seaborn.catplot.html\n",
    "2. https://stackoverflow.com/questions/54915124/how-to-unset-sharex-or-sharey-from-two-axes-in-matplotlib\n",
    "3. https://stackoverflow.com/questions/28337117/how-to-pivot-a-dataframe-in-pandas\n",
    "4. https://stackoverflow.com/questions/35193808/re-order-pandas-series-on-weekday\n"
   ]
  }
 ],
 "metadata": {
  "kernelspec": {
   "display_name": "Python 3",
   "language": "python",
   "name": "python3"
  },
  "language_info": {
   "codemirror_mode": {
    "name": "ipython",
    "version": 3
   },
   "file_extension": ".py",
   "mimetype": "text/x-python",
   "name": "python",
   "nbconvert_exporter": "python",
   "pygments_lexer": "ipython3",
   "version": "3.7.6"
  }
 },
 "nbformat": 4,
 "nbformat_minor": 4
}
